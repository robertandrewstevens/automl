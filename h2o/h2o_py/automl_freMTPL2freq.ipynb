{
 "cells": [
  {
   "cell_type": "markdown",
   "id": "cd478833",
   "metadata": {},
   "source": [
    "## H20 automl: freMTPL2freq (Regression)\n",
    "\n",
    "Based on: https://github.com/h2oai/h2o-tutorials/blob/master/h2o-world-2017/automl/Python/automl_regression_powerplant_output.ipynb"
   ]
  },
  {
   "cell_type": "code",
   "execution_count": 1,
   "id": "fed27190",
   "metadata": {},
   "outputs": [],
   "source": [
    "time_limit = 60*60  # 1 hour max (confirm with timer)\n",
    "metric = \"MAE\"  # specify your evaluation metric\n",
    "target = \"ClaimNb\" # name of target or label variable"
   ]
  },
  {
   "cell_type": "markdown",
   "id": "b45b9e19",
   "metadata": {},
   "source": [
    "## Import"
   ]
  },
  {
   "cell_type": "code",
   "execution_count": 2,
   "id": "0bee9740",
   "metadata": {},
   "outputs": [],
   "source": [
    "# Import packages\n",
    "\n",
    "from h2o.automl import H2OAutoML\n",
    "\n",
    "import h2o"
   ]
  },
  {
   "cell_type": "code",
   "execution_count": 3,
   "id": "d965ee8a",
   "metadata": {},
   "outputs": [
    {
     "name": "stdout",
     "output_type": "stream",
     "text": [
      "Checking whether there is an H2O instance running at http://localhost:54321 . connected.\n",
      "Warning: Your H2O cluster version is too old (1 year, 4 months and 25 days)!Please download and install the latest version from http://h2o.ai/download/\n"
     ]
    },
    {
     "data": {
      "text/html": [
       "<div style=\"overflow:auto\"><table style=\"width:50%\"><tr><td>H2O_cluster_uptime:</td>\n",
       "<td>10 hours 23 mins</td></tr>\n",
       "<tr><td>H2O_cluster_timezone:</td>\n",
       "<td>Etc/GMT</td></tr>\n",
       "<tr><td>H2O_data_parsing_timezone:</td>\n",
       "<td>UTC</td></tr>\n",
       "<tr><td>H2O_cluster_version:</td>\n",
       "<td>3.36.0.3</td></tr>\n",
       "<tr><td>H2O_cluster_version_age:</td>\n",
       "<td>1 year, 4 months and 25 days !!!</td></tr>\n",
       "<tr><td>H2O_cluster_name:</td>\n",
       "<td>H2O_from_python_stever7_kk0ro3</td></tr>\n",
       "<tr><td>H2O_cluster_total_nodes:</td>\n",
       "<td>1</td></tr>\n",
       "<tr><td>H2O_cluster_free_memory:</td>\n",
       "<td>23.16 Gb</td></tr>\n",
       "<tr><td>H2O_cluster_total_cores:</td>\n",
       "<td>64</td></tr>\n",
       "<tr><td>H2O_cluster_allowed_cores:</td>\n",
       "<td>64</td></tr>\n",
       "<tr><td>H2O_cluster_status:</td>\n",
       "<td>locked, healthy</td></tr>\n",
       "<tr><td>H2O_connection_url:</td>\n",
       "<td>http://localhost:54321</td></tr>\n",
       "<tr><td>H2O_connection_proxy:</td>\n",
       "<td>{\"http\": null, \"https\": null}</td></tr>\n",
       "<tr><td>H2O_internal_security:</td>\n",
       "<td>False</td></tr>\n",
       "<tr><td>Python_version:</td>\n",
       "<td>3.9.11 final</td></tr></table></div>"
      ],
      "text/plain": [
       "--------------------------  --------------------------------\n",
       "H2O_cluster_uptime:         10 hours 23 mins\n",
       "H2O_cluster_timezone:       Etc/GMT\n",
       "H2O_data_parsing_timezone:  UTC\n",
       "H2O_cluster_version:        3.36.0.3\n",
       "H2O_cluster_version_age:    1 year, 4 months and 25 days !!!\n",
       "H2O_cluster_name:           H2O_from_python_stever7_kk0ro3\n",
       "H2O_cluster_total_nodes:    1\n",
       "H2O_cluster_free_memory:    23.16 Gb\n",
       "H2O_cluster_total_cores:    64\n",
       "H2O_cluster_allowed_cores:  64\n",
       "H2O_cluster_status:         locked, healthy\n",
       "H2O_connection_url:         http://localhost:54321\n",
       "H2O_connection_proxy:       {\"http\": null, \"https\": null}\n",
       "H2O_internal_security:      False\n",
       "Python_version:             3.9.11 final\n",
       "--------------------------  --------------------------------"
      ]
     },
     "metadata": {},
     "output_type": "display_data"
    }
   ],
   "source": [
    "# initialize h2o\n",
    "h2o.init()"
   ]
  },
  {
   "cell_type": "code",
   "execution_count": 4,
   "id": "b26eb0c7",
   "metadata": {},
   "outputs": [
    {
     "name": "stdout",
     "output_type": "stream",
     "text": [
      "Parse progress: |████████████████████████████████████████████████████████████████| (done) 100%\n",
      "Parse progress: |████████████████████████████████████████████████████████████████| (done) 100%\n"
     ]
    }
   ],
   "source": [
    "# Import data\n",
    "\n",
    "train = h2o.import_file(\"freMTPL2freq_dataset_train.csv\")\n",
    "test = h2o.import_file(\"freMTPL2freq_dataset_test.csv\")"
   ]
  },
  {
   "cell_type": "code",
   "execution_count": 5,
   "id": "6c5c7f99",
   "metadata": {},
   "outputs": [
    {
     "data": {
      "text/plain": [
       "(474765, 12)"
      ]
     },
     "execution_count": 5,
     "metadata": {},
     "output_type": "execute_result"
    }
   ],
   "source": [
    "train.shape"
   ]
  },
  {
   "cell_type": "code",
   "execution_count": 6,
   "id": "57379a65",
   "metadata": {},
   "outputs": [
    {
     "data": {
      "text/plain": [
       "(203226, 12)"
      ]
     },
     "execution_count": 6,
     "metadata": {},
     "output_type": "execute_result"
    }
   ],
   "source": [
    "test.shape"
   ]
  },
  {
   "cell_type": "code",
   "execution_count": 7,
   "id": "5b23691e",
   "metadata": {},
   "outputs": [
    {
     "name": "stdout",
     "output_type": "stream",
     "text": [
      "Checking whether there is an H2O instance running at http://localhost:54321 . connected.\n",
      "Warning: Your H2O cluster version is too old (1 year, 4 months and 25 days)!Please download and install the latest version from http://h2o.ai/download/\n"
     ]
    },
    {
     "data": {
      "text/html": [
       "<div style=\"overflow:auto\"><table style=\"width:50%\"><tr><td>H2O_cluster_uptime:</td>\n",
       "<td>10 hours 23 mins</td></tr>\n",
       "<tr><td>H2O_cluster_timezone:</td>\n",
       "<td>Etc/GMT</td></tr>\n",
       "<tr><td>H2O_data_parsing_timezone:</td>\n",
       "<td>UTC</td></tr>\n",
       "<tr><td>H2O_cluster_version:</td>\n",
       "<td>3.36.0.3</td></tr>\n",
       "<tr><td>H2O_cluster_version_age:</td>\n",
       "<td>1 year, 4 months and 25 days !!!</td></tr>\n",
       "<tr><td>H2O_cluster_name:</td>\n",
       "<td>H2O_from_python_stever7_kk0ro3</td></tr>\n",
       "<tr><td>H2O_cluster_total_nodes:</td>\n",
       "<td>1</td></tr>\n",
       "<tr><td>H2O_cluster_free_memory:</td>\n",
       "<td>23.15 Gb</td></tr>\n",
       "<tr><td>H2O_cluster_total_cores:</td>\n",
       "<td>64</td></tr>\n",
       "<tr><td>H2O_cluster_allowed_cores:</td>\n",
       "<td>64</td></tr>\n",
       "<tr><td>H2O_cluster_status:</td>\n",
       "<td>locked, healthy</td></tr>\n",
       "<tr><td>H2O_connection_url:</td>\n",
       "<td>http://localhost:54321</td></tr>\n",
       "<tr><td>H2O_connection_proxy:</td>\n",
       "<td>{\"http\": null, \"https\": null}</td></tr>\n",
       "<tr><td>H2O_internal_security:</td>\n",
       "<td>False</td></tr>\n",
       "<tr><td>Python_version:</td>\n",
       "<td>3.9.11 final</td></tr></table></div>"
      ],
      "text/plain": [
       "--------------------------  --------------------------------\n",
       "H2O_cluster_uptime:         10 hours 23 mins\n",
       "H2O_cluster_timezone:       Etc/GMT\n",
       "H2O_data_parsing_timezone:  UTC\n",
       "H2O_cluster_version:        3.36.0.3\n",
       "H2O_cluster_version_age:    1 year, 4 months and 25 days !!!\n",
       "H2O_cluster_name:           H2O_from_python_stever7_kk0ro3\n",
       "H2O_cluster_total_nodes:    1\n",
       "H2O_cluster_free_memory:    23.15 Gb\n",
       "H2O_cluster_total_cores:    64\n",
       "H2O_cluster_allowed_cores:  64\n",
       "H2O_cluster_status:         locked, healthy\n",
       "H2O_connection_url:         http://localhost:54321\n",
       "H2O_connection_proxy:       {\"http\": null, \"https\": null}\n",
       "H2O_internal_security:      False\n",
       "Python_version:             3.9.11 final\n",
       "--------------------------  --------------------------------"
      ]
     },
     "metadata": {},
     "output_type": "display_data"
    }
   ],
   "source": [
    "# initialize h2o\n",
    "h2o.init()"
   ]
  },
  {
   "cell_type": "markdown",
   "id": "ce809491",
   "metadata": {},
   "source": [
    "## Tidy"
   ]
  },
  {
   "cell_type": "markdown",
   "id": "8fe69aa0",
   "metadata": {},
   "source": [
    "(skipped)"
   ]
  },
  {
   "cell_type": "markdown",
   "id": "5c2bc470",
   "metadata": {},
   "source": [
    "## Transform"
   ]
  },
  {
   "cell_type": "code",
   "execution_count": 8,
   "id": "49816b41",
   "metadata": {},
   "outputs": [
    {
     "data": {
      "text/plain": [
       "['IDpol',\n",
       " 'ClaimNb',\n",
       " 'Exposure',\n",
       " 'VehPower',\n",
       " 'VehAge',\n",
       " 'DrivAge',\n",
       " 'BonusMalus',\n",
       " 'VehBrand',\n",
       " 'VehGas',\n",
       " 'Area',\n",
       " 'Density',\n",
       " 'Region']"
      ]
     },
     "execution_count": 8,
     "metadata": {},
     "output_type": "execute_result"
    }
   ],
   "source": [
    "predictors = train.columns\n",
    "predictors"
   ]
  },
  {
   "cell_type": "code",
   "execution_count": 9,
   "id": "29f46e9e",
   "metadata": {},
   "outputs": [],
   "source": [
    "predictors.remove(target)  # remove target variable\n",
    "predictors.remove(\"IDpol\")  # remove \"IDpol\" (should not be a predictor)"
   ]
  },
  {
   "cell_type": "markdown",
   "id": "6ff29e1d",
   "metadata": {},
   "source": [
    "## Visualize"
   ]
  },
  {
   "cell_type": "markdown",
   "id": "853ab12a",
   "metadata": {},
   "source": [
    "(skipped)"
   ]
  },
  {
   "cell_type": "markdown",
   "id": "b4936629",
   "metadata": {},
   "source": [
    "## Model"
   ]
  },
  {
   "cell_type": "code",
   "execution_count": 10,
   "id": "6c8f56ac",
   "metadata": {},
   "outputs": [
    {
     "name": "stdout",
     "output_type": "stream",
     "text": [
      "CPU times: user 5.03 ms, sys: 774 µs, total: 5.8 ms\n",
      "Wall time: 7.74 ms\n"
     ]
    }
   ],
   "source": [
    "%%time\n",
    "\n",
    "aml = H2OAutoML(max_runtime_secs=time_limit, seed=1, sort_metric=metric)"
   ]
  },
  {
   "cell_type": "code",
   "execution_count": 11,
   "id": "9eafd5ca",
   "metadata": {},
   "outputs": [
    {
     "name": "stdout",
     "output_type": "stream",
     "text": [
      "AutoML progress: |███████████████████████████████████████████████████████████████| (done) 100%\n",
      "CPU times: user 26.6 s, sys: 3.76 s, total: 30.3 s\n",
      "Wall time: 1h 10s\n",
      "Model Details\n",
      "=============\n",
      "H2ODeepLearningEstimator :  Deep Learning\n",
      "Model Key:  DeepLearning_grid_1_AutoML_5_20230711_232957_model_1\n",
      "\n",
      "\n",
      "Status of Neuron Layers: predicting ClaimNb, regression, gaussian distribution, Quadratic loss, 5,301 weights/biases, 68.7 KB, 100,200 training samples, mini-batch size 1\n"
     ]
    },
    {
     "data": {
      "text/html": [
       "<div>\n",
       "<style scoped>\n",
       "    .dataframe tbody tr th:only-of-type {\n",
       "        vertical-align: middle;\n",
       "    }\n",
       "\n",
       "    .dataframe tbody tr th {\n",
       "        vertical-align: top;\n",
       "    }\n",
       "\n",
       "    .dataframe thead th {\n",
       "        text-align: right;\n",
       "    }\n",
       "</style>\n",
       "<table border=\"1\" class=\"dataframe\">\n",
       "  <thead>\n",
       "    <tr style=\"text-align: right;\">\n",
       "      <th></th>\n",
       "      <th></th>\n",
       "      <th>layer</th>\n",
       "      <th>units</th>\n",
       "      <th>type</th>\n",
       "      <th>dropout</th>\n",
       "      <th>l1</th>\n",
       "      <th>l2</th>\n",
       "      <th>mean_rate</th>\n",
       "      <th>rate_rms</th>\n",
       "      <th>momentum</th>\n",
       "      <th>mean_weight</th>\n",
       "      <th>weight_rms</th>\n",
       "      <th>mean_bias</th>\n",
       "      <th>bias_rms</th>\n",
       "    </tr>\n",
       "  </thead>\n",
       "  <tbody>\n",
       "    <tr>\n",
       "      <th>0</th>\n",
       "      <td></td>\n",
       "      <td>1</td>\n",
       "      <td>51</td>\n",
       "      <td>Input</td>\n",
       "      <td>15.0</td>\n",
       "      <td></td>\n",
       "      <td></td>\n",
       "      <td></td>\n",
       "      <td></td>\n",
       "      <td></td>\n",
       "      <td></td>\n",
       "      <td></td>\n",
       "      <td></td>\n",
       "      <td></td>\n",
       "    </tr>\n",
       "    <tr>\n",
       "      <th>1</th>\n",
       "      <td></td>\n",
       "      <td>2</td>\n",
       "      <td>100</td>\n",
       "      <td>RectifierDropout</td>\n",
       "      <td>10.0</td>\n",
       "      <td>0.0</td>\n",
       "      <td>0.0</td>\n",
       "      <td>0.111171</td>\n",
       "      <td>0.266351</td>\n",
       "      <td>0.0</td>\n",
       "      <td>-0.005516</td>\n",
       "      <td>0.111463</td>\n",
       "      <td>0.345956</td>\n",
       "      <td>0.143032</td>\n",
       "    </tr>\n",
       "    <tr>\n",
       "      <th>2</th>\n",
       "      <td></td>\n",
       "      <td>3</td>\n",
       "      <td>1</td>\n",
       "      <td>Linear</td>\n",
       "      <td></td>\n",
       "      <td>0.0</td>\n",
       "      <td>0.0</td>\n",
       "      <td>0.000253</td>\n",
       "      <td>0.000378</td>\n",
       "      <td>0.0</td>\n",
       "      <td>-0.016036</td>\n",
       "      <td>0.034088</td>\n",
       "      <td>0.223019</td>\n",
       "      <td>0.0</td>\n",
       "    </tr>\n",
       "  </tbody>\n",
       "</table>\n",
       "</div>"
      ],
      "text/plain": [
       "     layer  units              type dropout   l1   l2 mean_rate  rate_rms  \\\n",
       "0        1     51             Input    15.0                                 \n",
       "1        2    100  RectifierDropout    10.0  0.0  0.0  0.111171  0.266351   \n",
       "2        3      1            Linear          0.0  0.0  0.000253  0.000378   \n",
       "\n",
       "  momentum mean_weight weight_rms mean_bias  bias_rms  \n",
       "0                                                      \n",
       "1      0.0   -0.005516   0.111463  0.345956  0.143032  \n",
       "2      0.0   -0.016036   0.034088  0.223019       0.0  "
      ]
     },
     "metadata": {},
     "output_type": "display_data"
    },
    {
     "name": "stdout",
     "output_type": "stream",
     "text": [
      "\n",
      "\n",
      "ModelMetricsRegression: deeplearning\n",
      "** Reported on train data. **\n",
      "\n",
      "MSE: 0.04157652114446334\n",
      "RMSE: 0.20390321514008392\n",
      "MAE: 0.047452580646263204\n",
      "RMSLE: 0.13592898082471525\n",
      "Mean Residual Deviance: 0.04157652114446334\n",
      "\n",
      "ModelMetricsRegression: deeplearning\n",
      "** Reported on cross-validation data. **\n",
      "\n",
      "MSE: 0.04336248371210943\n",
      "RMSE: 0.2082366051204961\n",
      "MAE: 0.04663019298944329\n",
      "RMSLE: 0.13737154724436604\n",
      "Mean Residual Deviance: 0.04336248371210943\n",
      "\n",
      "Cross-Validation Metrics Summary: \n"
     ]
    },
    {
     "data": {
      "text/html": [
       "<div>\n",
       "<style scoped>\n",
       "    .dataframe tbody tr th:only-of-type {\n",
       "        vertical-align: middle;\n",
       "    }\n",
       "\n",
       "    .dataframe tbody tr th {\n",
       "        vertical-align: top;\n",
       "    }\n",
       "\n",
       "    .dataframe thead th {\n",
       "        text-align: right;\n",
       "    }\n",
       "</style>\n",
       "<table border=\"1\" class=\"dataframe\">\n",
       "  <thead>\n",
       "    <tr style=\"text-align: right;\">\n",
       "      <th></th>\n",
       "      <th></th>\n",
       "      <th>mean</th>\n",
       "      <th>sd</th>\n",
       "      <th>cv_1_valid</th>\n",
       "      <th>cv_2_valid</th>\n",
       "      <th>cv_3_valid</th>\n",
       "      <th>cv_4_valid</th>\n",
       "      <th>cv_5_valid</th>\n",
       "    </tr>\n",
       "  </thead>\n",
       "  <tbody>\n",
       "    <tr>\n",
       "      <th>0</th>\n",
       "      <td>mae</td>\n",
       "      <td>0.049443</td>\n",
       "      <td>0.004964</td>\n",
       "      <td>0.057355</td>\n",
       "      <td>0.050694</td>\n",
       "      <td>0.044539</td>\n",
       "      <td>0.048112</td>\n",
       "      <td>0.046513</td>\n",
       "    </tr>\n",
       "    <tr>\n",
       "      <th>1</th>\n",
       "      <td>mean_residual_deviance</td>\n",
       "      <td>0.042937</td>\n",
       "      <td>0.000946</td>\n",
       "      <td>0.042514</td>\n",
       "      <td>0.042572</td>\n",
       "      <td>0.042937</td>\n",
       "      <td>0.044548</td>\n",
       "      <td>0.042116</td>\n",
       "    </tr>\n",
       "    <tr>\n",
       "      <th>2</th>\n",
       "      <td>mse</td>\n",
       "      <td>0.042937</td>\n",
       "      <td>0.000946</td>\n",
       "      <td>0.042514</td>\n",
       "      <td>0.042572</td>\n",
       "      <td>0.042937</td>\n",
       "      <td>0.044548</td>\n",
       "      <td>0.042116</td>\n",
       "    </tr>\n",
       "    <tr>\n",
       "      <th>3</th>\n",
       "      <td>r2</td>\n",
       "      <td>-0.017190</td>\n",
       "      <td>0.009903</td>\n",
       "      <td>-0.006603</td>\n",
       "      <td>-0.009388</td>\n",
       "      <td>-0.031599</td>\n",
       "      <td>-0.020554</td>\n",
       "      <td>-0.017809</td>\n",
       "    </tr>\n",
       "    <tr>\n",
       "      <th>4</th>\n",
       "      <td>residual_deviance</td>\n",
       "      <td>0.042937</td>\n",
       "      <td>0.000946</td>\n",
       "      <td>0.042514</td>\n",
       "      <td>0.042572</td>\n",
       "      <td>0.042937</td>\n",
       "      <td>0.044548</td>\n",
       "      <td>0.042116</td>\n",
       "    </tr>\n",
       "    <tr>\n",
       "      <th>5</th>\n",
       "      <td>rmse</td>\n",
       "      <td>0.207203</td>\n",
       "      <td>0.002270</td>\n",
       "      <td>0.206190</td>\n",
       "      <td>0.206329</td>\n",
       "      <td>0.207212</td>\n",
       "      <td>0.211063</td>\n",
       "      <td>0.205221</td>\n",
       "    </tr>\n",
       "    <tr>\n",
       "      <th>6</th>\n",
       "      <td>rmsle</td>\n",
       "      <td>0.136436</td>\n",
       "      <td>0.001783</td>\n",
       "      <td>0.136707</td>\n",
       "      <td>0.134276</td>\n",
       "      <td>0.138475</td>\n",
       "      <td>0.137740</td>\n",
       "      <td>0.134981</td>\n",
       "    </tr>\n",
       "  </tbody>\n",
       "</table>\n",
       "</div>"
      ],
      "text/plain": [
       "                               mean        sd  cv_1_valid  cv_2_valid  \\\n",
       "0                     mae  0.049443  0.004964    0.057355    0.050694   \n",
       "1  mean_residual_deviance  0.042937  0.000946    0.042514    0.042572   \n",
       "2                     mse  0.042937  0.000946    0.042514    0.042572   \n",
       "3                      r2 -0.017190  0.009903   -0.006603   -0.009388   \n",
       "4       residual_deviance  0.042937  0.000946    0.042514    0.042572   \n",
       "5                    rmse  0.207203  0.002270    0.206190    0.206329   \n",
       "6                   rmsle  0.136436  0.001783    0.136707    0.134276   \n",
       "\n",
       "   cv_3_valid  cv_4_valid  cv_5_valid  \n",
       "0    0.044539    0.048112    0.046513  \n",
       "1    0.042937    0.044548    0.042116  \n",
       "2    0.042937    0.044548    0.042116  \n",
       "3   -0.031599   -0.020554   -0.017809  \n",
       "4    0.042937    0.044548    0.042116  \n",
       "5    0.207212    0.211063    0.205221  \n",
       "6    0.138475    0.137740    0.134981  "
      ]
     },
     "metadata": {},
     "output_type": "display_data"
    },
    {
     "name": "stdout",
     "output_type": "stream",
     "text": [
      "\n",
      "Scoring History: \n"
     ]
    },
    {
     "data": {
      "text/html": [
       "<div>\n",
       "<style scoped>\n",
       "    .dataframe tbody tr th:only-of-type {\n",
       "        vertical-align: middle;\n",
       "    }\n",
       "\n",
       "    .dataframe tbody tr th {\n",
       "        vertical-align: top;\n",
       "    }\n",
       "\n",
       "    .dataframe thead th {\n",
       "        text-align: right;\n",
       "    }\n",
       "</style>\n",
       "<table border=\"1\" class=\"dataframe\">\n",
       "  <thead>\n",
       "    <tr style=\"text-align: right;\">\n",
       "      <th></th>\n",
       "      <th></th>\n",
       "      <th>timestamp</th>\n",
       "      <th>duration</th>\n",
       "      <th>training_speed</th>\n",
       "      <th>epochs</th>\n",
       "      <th>iterations</th>\n",
       "      <th>samples</th>\n",
       "      <th>training_rmse</th>\n",
       "      <th>training_deviance</th>\n",
       "      <th>training_mae</th>\n",
       "      <th>training_r2</th>\n",
       "    </tr>\n",
       "  </thead>\n",
       "  <tbody>\n",
       "    <tr>\n",
       "      <th>0</th>\n",
       "      <td></td>\n",
       "      <td>2023-07-12 00:29:51</td>\n",
       "      <td>0.000 sec</td>\n",
       "      <td>None</td>\n",
       "      <td>0.000000</td>\n",
       "      <td>0</td>\n",
       "      <td>0.0</td>\n",
       "      <td>NaN</td>\n",
       "      <td>NaN</td>\n",
       "      <td>NaN</td>\n",
       "      <td>NaN</td>\n",
       "    </tr>\n",
       "    <tr>\n",
       "      <th>1</th>\n",
       "      <td></td>\n",
       "      <td>2023-07-12 00:29:51</td>\n",
       "      <td>26.659 sec</td>\n",
       "      <td>76015 obs/sec</td>\n",
       "      <td>0.021135</td>\n",
       "      <td>1</td>\n",
       "      <td>10034.0</td>\n",
       "      <td>0.204194</td>\n",
       "      <td>0.041695</td>\n",
       "      <td>0.056616</td>\n",
       "      <td>-0.021476</td>\n",
       "    </tr>\n",
       "    <tr>\n",
       "      <th>2</th>\n",
       "      <td></td>\n",
       "      <td>2023-07-12 00:29:53</td>\n",
       "      <td>27.843 sec</td>\n",
       "      <td>77136 obs/sec</td>\n",
       "      <td>0.211052</td>\n",
       "      <td>10</td>\n",
       "      <td>100200.0</td>\n",
       "      <td>0.203903</td>\n",
       "      <td>0.041577</td>\n",
       "      <td>0.047453</td>\n",
       "      <td>-0.018568</td>\n",
       "    </tr>\n",
       "  </tbody>\n",
       "</table>\n",
       "</div>"
      ],
      "text/plain": [
       "               timestamp    duration training_speed    epochs  iterations  \\\n",
       "0    2023-07-12 00:29:51   0.000 sec           None  0.000000           0   \n",
       "1    2023-07-12 00:29:51  26.659 sec  76015 obs/sec  0.021135           1   \n",
       "2    2023-07-12 00:29:53  27.843 sec  77136 obs/sec  0.211052          10   \n",
       "\n",
       "    samples  training_rmse  training_deviance  training_mae  training_r2  \n",
       "0       0.0            NaN                NaN           NaN          NaN  \n",
       "1   10034.0       0.204194           0.041695      0.056616    -0.021476  \n",
       "2  100200.0       0.203903           0.041577      0.047453    -0.018568  "
      ]
     },
     "metadata": {},
     "output_type": "display_data"
    },
    {
     "name": "stdout",
     "output_type": "stream",
     "text": [
      "\n",
      "Variable Importances: \n"
     ]
    },
    {
     "data": {
      "text/html": [
       "<div>\n",
       "<style scoped>\n",
       "    .dataframe tbody tr th:only-of-type {\n",
       "        vertical-align: middle;\n",
       "    }\n",
       "\n",
       "    .dataframe tbody tr th {\n",
       "        vertical-align: top;\n",
       "    }\n",
       "\n",
       "    .dataframe thead th {\n",
       "        text-align: right;\n",
       "    }\n",
       "</style>\n",
       "<table border=\"1\" class=\"dataframe\">\n",
       "  <thead>\n",
       "    <tr style=\"text-align: right;\">\n",
       "      <th></th>\n",
       "      <th>variable</th>\n",
       "      <th>relative_importance</th>\n",
       "      <th>scaled_importance</th>\n",
       "      <th>percentage</th>\n",
       "    </tr>\n",
       "  </thead>\n",
       "  <tbody>\n",
       "    <tr>\n",
       "      <th>0</th>\n",
       "      <td>Region.Bourgogne</td>\n",
       "      <td>1.000000</td>\n",
       "      <td>1.000000</td>\n",
       "      <td>0.026185</td>\n",
       "    </tr>\n",
       "    <tr>\n",
       "      <th>1</th>\n",
       "      <td>Region.Poitou-Charentes</td>\n",
       "      <td>0.976431</td>\n",
       "      <td>0.976431</td>\n",
       "      <td>0.025568</td>\n",
       "    </tr>\n",
       "    <tr>\n",
       "      <th>2</th>\n",
       "      <td>Region.Pays-de-la-Loire</td>\n",
       "      <td>0.967061</td>\n",
       "      <td>0.967061</td>\n",
       "      <td>0.025322</td>\n",
       "    </tr>\n",
       "    <tr>\n",
       "      <th>3</th>\n",
       "      <td>VehBrand.B5</td>\n",
       "      <td>0.944133</td>\n",
       "      <td>0.944133</td>\n",
       "      <td>0.024722</td>\n",
       "    </tr>\n",
       "    <tr>\n",
       "      <th>4</th>\n",
       "      <td>Region.Alsace</td>\n",
       "      <td>0.913304</td>\n",
       "      <td>0.913304</td>\n",
       "      <td>0.023915</td>\n",
       "    </tr>\n",
       "    <tr>\n",
       "      <th>5</th>\n",
       "      <td>Region.Auvergne</td>\n",
       "      <td>0.910745</td>\n",
       "      <td>0.910745</td>\n",
       "      <td>0.023848</td>\n",
       "    </tr>\n",
       "    <tr>\n",
       "      <th>6</th>\n",
       "      <td>VehBrand.B2</td>\n",
       "      <td>0.892358</td>\n",
       "      <td>0.892358</td>\n",
       "      <td>0.023366</td>\n",
       "    </tr>\n",
       "    <tr>\n",
       "      <th>7</th>\n",
       "      <td>Area.B</td>\n",
       "      <td>0.890892</td>\n",
       "      <td>0.890892</td>\n",
       "      <td>0.023328</td>\n",
       "    </tr>\n",
       "    <tr>\n",
       "      <th>8</th>\n",
       "      <td>Region.Corse</td>\n",
       "      <td>0.885864</td>\n",
       "      <td>0.885864</td>\n",
       "      <td>0.023196</td>\n",
       "    </tr>\n",
       "    <tr>\n",
       "      <th>9</th>\n",
       "      <td>VehBrand.B13</td>\n",
       "      <td>0.878715</td>\n",
       "      <td>0.878715</td>\n",
       "      <td>0.023009</td>\n",
       "    </tr>\n",
       "    <tr>\n",
       "      <th>10</th>\n",
       "      <td>Region.Limousin</td>\n",
       "      <td>0.877931</td>\n",
       "      <td>0.877931</td>\n",
       "      <td>0.022989</td>\n",
       "    </tr>\n",
       "    <tr>\n",
       "      <th>11</th>\n",
       "      <td>Region.Lorraine</td>\n",
       "      <td>0.872982</td>\n",
       "      <td>0.872982</td>\n",
       "      <td>0.022859</td>\n",
       "    </tr>\n",
       "    <tr>\n",
       "      <th>12</th>\n",
       "      <td>Region.Provence-Alpes-Cotes-D'Azur</td>\n",
       "      <td>0.870210</td>\n",
       "      <td>0.870210</td>\n",
       "      <td>0.022786</td>\n",
       "    </tr>\n",
       "    <tr>\n",
       "      <th>13</th>\n",
       "      <td>Region.Languedoc-Roussillon</td>\n",
       "      <td>0.861225</td>\n",
       "      <td>0.861225</td>\n",
       "      <td>0.022551</td>\n",
       "    </tr>\n",
       "    <tr>\n",
       "      <th>14</th>\n",
       "      <td>Region.Centre</td>\n",
       "      <td>0.860391</td>\n",
       "      <td>0.860391</td>\n",
       "      <td>0.022529</td>\n",
       "    </tr>\n",
       "    <tr>\n",
       "      <th>15</th>\n",
       "      <td>Region.Franche-Comte</td>\n",
       "      <td>0.858942</td>\n",
       "      <td>0.858942</td>\n",
       "      <td>0.022491</td>\n",
       "    </tr>\n",
       "    <tr>\n",
       "      <th>16</th>\n",
       "      <td>VehBrand.B6</td>\n",
       "      <td>0.856863</td>\n",
       "      <td>0.856863</td>\n",
       "      <td>0.022437</td>\n",
       "    </tr>\n",
       "    <tr>\n",
       "      <th>17</th>\n",
       "      <td>VehBrand.B12</td>\n",
       "      <td>0.847227</td>\n",
       "      <td>0.847227</td>\n",
       "      <td>0.022185</td>\n",
       "    </tr>\n",
       "    <tr>\n",
       "      <th>18</th>\n",
       "      <td>Area.F</td>\n",
       "      <td>0.840142</td>\n",
       "      <td>0.840142</td>\n",
       "      <td>0.021999</td>\n",
       "    </tr>\n",
       "    <tr>\n",
       "      <th>19</th>\n",
       "      <td>Region.Aquitaine</td>\n",
       "      <td>0.838649</td>\n",
       "      <td>0.838649</td>\n",
       "      <td>0.021960</td>\n",
       "    </tr>\n",
       "  </tbody>\n",
       "</table>\n",
       "</div>"
      ],
      "text/plain": [
       "                              variable  relative_importance  \\\n",
       "0                     Region.Bourgogne             1.000000   \n",
       "1              Region.Poitou-Charentes             0.976431   \n",
       "2              Region.Pays-de-la-Loire             0.967061   \n",
       "3                          VehBrand.B5             0.944133   \n",
       "4                        Region.Alsace             0.913304   \n",
       "5                      Region.Auvergne             0.910745   \n",
       "6                          VehBrand.B2             0.892358   \n",
       "7                               Area.B             0.890892   \n",
       "8                         Region.Corse             0.885864   \n",
       "9                         VehBrand.B13             0.878715   \n",
       "10                     Region.Limousin             0.877931   \n",
       "11                     Region.Lorraine             0.872982   \n",
       "12  Region.Provence-Alpes-Cotes-D'Azur             0.870210   \n",
       "13         Region.Languedoc-Roussillon             0.861225   \n",
       "14                       Region.Centre             0.860391   \n",
       "15                Region.Franche-Comte             0.858942   \n",
       "16                         VehBrand.B6             0.856863   \n",
       "17                        VehBrand.B12             0.847227   \n",
       "18                              Area.F             0.840142   \n",
       "19                    Region.Aquitaine             0.838649   \n",
       "\n",
       "    scaled_importance  percentage  \n",
       "0            1.000000    0.026185  \n",
       "1            0.976431    0.025568  \n",
       "2            0.967061    0.025322  \n",
       "3            0.944133    0.024722  \n",
       "4            0.913304    0.023915  \n",
       "5            0.910745    0.023848  \n",
       "6            0.892358    0.023366  \n",
       "7            0.890892    0.023328  \n",
       "8            0.885864    0.023196  \n",
       "9            0.878715    0.023009  \n",
       "10           0.877931    0.022989  \n",
       "11           0.872982    0.022859  \n",
       "12           0.870210    0.022786  \n",
       "13           0.861225    0.022551  \n",
       "14           0.860391    0.022529  \n",
       "15           0.858942    0.022491  \n",
       "16           0.856863    0.022437  \n",
       "17           0.847227    0.022185  \n",
       "18           0.840142    0.021999  \n",
       "19           0.838649    0.021960  "
      ]
     },
     "metadata": {},
     "output_type": "display_data"
    },
    {
     "name": "stdout",
     "output_type": "stream",
     "text": [
      "\n",
      "See the whole table with table.as_data_frame()\n"
     ]
    },
    {
     "data": {
      "text/plain": []
     },
     "execution_count": 11,
     "metadata": {},
     "output_type": "execute_result"
    }
   ],
   "source": [
    "%%time\n",
    "\n",
    "aml.train(x=predictors, y=target, training_frame=train, leaderboard_frame=test)"
   ]
  },
  {
   "cell_type": "code",
   "execution_count": 13,
   "id": "99a88fe6",
   "metadata": {},
   "outputs": [
    {
     "data": {
      "text/html": [
       "<table>\n",
       "<thead>\n",
       "<tr><th>model_id                                               </th><th style=\"text-align: right;\">      mae</th><th style=\"text-align: right;\">  mean_residual_deviance</th><th style=\"text-align: right;\">    rmse</th><th style=\"text-align: right;\">      mse</th><th style=\"text-align: right;\">   rmsle</th></tr>\n",
       "</thead>\n",
       "<tbody>\n",
       "<tr><td>DeepLearning_grid_1_AutoML_5_20230711_232957_model_1   </td><td style=\"text-align: right;\">0.0489686</td><td style=\"text-align: right;\">               0.0454355</td><td style=\"text-align: right;\">0.213156</td><td style=\"text-align: right;\">0.0454355</td><td style=\"text-align: right;\">0.138968</td></tr>\n",
       "<tr><td>DeepLearning_1_AutoML_5_20230711_232957                </td><td style=\"text-align: right;\">0.0648653</td><td style=\"text-align: right;\">               0.0440279</td><td style=\"text-align: right;\">0.209828</td><td style=\"text-align: right;\">0.0440279</td><td style=\"text-align: right;\">0.136993</td></tr>\n",
       "<tr><td>XRT_1_AutoML_5_20230711_232957                         </td><td style=\"text-align: right;\">0.0703756</td><td style=\"text-align: right;\">               0.0436321</td><td style=\"text-align: right;\">0.208883</td><td style=\"text-align: right;\">0.0436321</td><td style=\"text-align: right;\">0.13776 </td></tr>\n",
       "<tr><td>StackedEnsemble_BestOfFamily_4_AutoML_5_20230711_232957</td><td style=\"text-align: right;\">0.0715718</td><td style=\"text-align: right;\">               0.0428402</td><td style=\"text-align: right;\">0.206979</td><td style=\"text-align: right;\">0.0428402</td><td style=\"text-align: right;\">0.135672</td></tr>\n",
       "<tr><td>StackedEnsemble_BestOfFamily_2_AutoML_5_20230711_232957</td><td style=\"text-align: right;\">0.0717217</td><td style=\"text-align: right;\">               0.0428742</td><td style=\"text-align: right;\">0.207061</td><td style=\"text-align: right;\">0.0428742</td><td style=\"text-align: right;\">0.135712</td></tr>\n",
       "<tr><td>StackedEnsemble_AllModels_1_AutoML_5_20230711_232957   </td><td style=\"text-align: right;\">0.0720492</td><td style=\"text-align: right;\">               0.0428128</td><td style=\"text-align: right;\">0.206912</td><td style=\"text-align: right;\">0.0428128</td><td style=\"text-align: right;\">0.135649</td></tr>\n",
       "<tr><td>StackedEnsemble_AllModels_2_AutoML_5_20230711_232957   </td><td style=\"text-align: right;\">0.0722048</td><td style=\"text-align: right;\">               0.0428167</td><td style=\"text-align: right;\">0.206922</td><td style=\"text-align: right;\">0.0428167</td><td style=\"text-align: right;\">0.135663</td></tr>\n",
       "<tr><td>GBM_3_AutoML_5_20230711_232957                         </td><td style=\"text-align: right;\">0.0726389</td><td style=\"text-align: right;\">               0.0428896</td><td style=\"text-align: right;\">0.207098</td><td style=\"text-align: right;\">0.0428896</td><td style=\"text-align: right;\">0.135795</td></tr>\n",
       "<tr><td>GBM_4_AutoML_5_20230711_232957                         </td><td style=\"text-align: right;\">0.0726546</td><td style=\"text-align: right;\">               0.0429563</td><td style=\"text-align: right;\">0.207259</td><td style=\"text-align: right;\">0.0429563</td><td style=\"text-align: right;\">0.136204</td></tr>\n",
       "<tr><td>StackedEnsemble_BestOfFamily_3_AutoML_5_20230711_232957</td><td style=\"text-align: right;\">0.0726547</td><td style=\"text-align: right;\">               0.0428704</td><td style=\"text-align: right;\">0.207052</td><td style=\"text-align: right;\">0.0428704</td><td style=\"text-align: right;\">0.135768</td></tr>\n",
       "<tr><td>GBM_5_AutoML_5_20230711_232957                         </td><td style=\"text-align: right;\">0.0727498</td><td style=\"text-align: right;\">               0.0429072</td><td style=\"text-align: right;\">0.207141</td><td style=\"text-align: right;\">0.0429072</td><td style=\"text-align: right;\">0.135685</td></tr>\n",
       "<tr><td>GBM_2_AutoML_5_20230711_232957                         </td><td style=\"text-align: right;\">0.0727809</td><td style=\"text-align: right;\">               0.0429   </td><td style=\"text-align: right;\">0.207123</td><td style=\"text-align: right;\">0.0429   </td><td style=\"text-align: right;\">0.13574 </td></tr>\n",
       "<tr><td>GBM_1_AutoML_5_20230711_232957                         </td><td style=\"text-align: right;\">0.0730012</td><td style=\"text-align: right;\">               0.0429729</td><td style=\"text-align: right;\">0.207299</td><td style=\"text-align: right;\">0.0429729</td><td style=\"text-align: right;\">0.136287</td></tr>\n",
       "<tr><td>StackedEnsemble_BestOfFamily_1_AutoML_5_20230711_232957</td><td style=\"text-align: right;\">0.0731012</td><td style=\"text-align: right;\">               0.0429561</td><td style=\"text-align: right;\">0.207259</td><td style=\"text-align: right;\">0.0429561</td><td style=\"text-align: right;\">0.136   </td></tr>\n",
       "<tr><td>XGBoost_grid_1_AutoML_5_20230711_232957_model_1        </td><td style=\"text-align: right;\">0.0731861</td><td style=\"text-align: right;\">               0.0430116</td><td style=\"text-align: right;\">0.207392</td><td style=\"text-align: right;\">0.0430116</td><td style=\"text-align: right;\">0.136439</td></tr>\n",
       "<tr><td>XGBoost_3_AutoML_5_20230711_232957                     </td><td style=\"text-align: right;\">0.0731931</td><td style=\"text-align: right;\">               0.0430216</td><td style=\"text-align: right;\">0.207417</td><td style=\"text-align: right;\">0.0430216</td><td style=\"text-align: right;\">0.136016</td></tr>\n",
       "<tr><td>XGBoost_2_AutoML_5_20230711_232957                     </td><td style=\"text-align: right;\">0.0733776</td><td style=\"text-align: right;\">               0.0435108</td><td style=\"text-align: right;\">0.208593</td><td style=\"text-align: right;\">0.0435108</td><td style=\"text-align: right;\">0.137778</td></tr>\n",
       "<tr><td>GBM_grid_1_AutoML_5_20230711_232957_model_1            </td><td style=\"text-align: right;\">0.0735275</td><td style=\"text-align: right;\">               0.0432996</td><td style=\"text-align: right;\">0.208086</td><td style=\"text-align: right;\">0.0432996</td><td style=\"text-align: right;\">0.136327</td></tr>\n",
       "<tr><td>DRF_1_AutoML_5_20230711_232957                         </td><td style=\"text-align: right;\">0.0747699</td><td style=\"text-align: right;\">               0.0447682</td><td style=\"text-align: right;\">0.211585</td><td style=\"text-align: right;\">0.0447682</td><td style=\"text-align: right;\">0.140904</td></tr>\n",
       "<tr><td>GLM_1_AutoML_5_20230711_232957                         </td><td style=\"text-align: right;\">0.0749762</td><td style=\"text-align: right;\">               0.0438282</td><td style=\"text-align: right;\">0.209352</td><td style=\"text-align: right;\">0.0438282</td><td style=\"text-align: right;\">0.137299</td></tr>\n",
       "<tr><td>XGBoost_1_AutoML_5_20230711_232957                     </td><td style=\"text-align: right;\">0.0796499</td><td style=\"text-align: right;\">               0.045369 </td><td style=\"text-align: right;\">0.213   </td><td style=\"text-align: right;\">0.045369 </td><td style=\"text-align: right;\">0.143444</td></tr>\n",
       "</tbody>\n",
       "</table>"
      ]
     },
     "metadata": {},
     "output_type": "display_data"
    },
    {
     "data": {
      "text/plain": []
     },
     "execution_count": 13,
     "metadata": {},
     "output_type": "execute_result"
    }
   ],
   "source": [
    "aml.leaderboard.head(rows=aml.leaderboard.nrows)"
   ]
  },
  {
   "cell_type": "code",
   "execution_count": 14,
   "id": "e4bf162d",
   "metadata": {},
   "outputs": [
    {
     "name": "stdout",
     "output_type": "stream",
     "text": [
      "deeplearning prediction progress: |██████████████████████████████████████████████| (done) 100%\n"
     ]
    }
   ],
   "source": [
    "## Predict Using Leader Model\n",
    "pred = aml.predict(test)"
   ]
  },
  {
   "cell_type": "code",
   "execution_count": 15,
   "id": "747f74b5",
   "metadata": {},
   "outputs": [
    {
     "name": "stdout",
     "output_type": "stream",
     "text": [
      "\n",
      "ModelMetricsRegression: deeplearning\n",
      "** Reported on test data. **\n",
      "\n",
      "MSE: 0.04543549530748304\n",
      "RMSE: 0.21315603511860282\n",
      "MAE: 0.04896857546893606\n",
      "RMSLE: 0.13896754932114724\n",
      "Mean Residual Deviance: 0.04543549530748304\n"
     ]
    },
    {
     "data": {
      "text/plain": []
     },
     "execution_count": 15,
     "metadata": {},
     "output_type": "execute_result"
    }
   ],
   "source": [
    "perf = aml.leader.model_performance(test)\n",
    "perf"
   ]
  },
  {
   "cell_type": "markdown",
   "id": "415f7707",
   "metadata": {},
   "source": [
    "## Communicate"
   ]
  },
  {
   "cell_type": "markdown",
   "id": "3aab7e70",
   "metadata": {},
   "source": [
    "(skipped)"
   ]
  }
 ],
 "metadata": {
  "kernelspec": {
   "display_name": "Python 3",
   "language": "python",
   "name": "python3"
  },
  "language_info": {
   "codemirror_mode": {
    "name": "ipython",
    "version": 3
   },
   "file_extension": ".py",
   "mimetype": "text/x-python",
   "name": "python",
   "nbconvert_exporter": "python",
   "pygments_lexer": "ipython3",
   "version": "3.9.11"
  }
 },
 "nbformat": 4,
 "nbformat_minor": 5
}
