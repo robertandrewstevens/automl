{
 "cells": [
  {
   "cell_type": "markdown",
   "metadata": {},
   "source": [
    "https://docs.h2o.ai/h2o/latest-stable/h2o-docs/admissibleml-code-examples/Train-model-subsets-Python.ipynb\n",
    "\n",
    "## TODO\n",
    "\n",
    "Debug\n",
    "\n",
    "```\n",
    "AttributeError: type object 'ModelBase' has no attribute 'train_subset_models'\n",
    "```"
   ]
  },
  {
   "cell_type": "code",
   "execution_count": 1,
   "metadata": {},
   "outputs": [
    {
     "name": "stdout",
     "output_type": "stream",
     "text": [
      "Connecting to H2O server at http://localhost:54321 ... successful.\n",
      "Warning: Version mismatch. H2O is version 3.40.0.1, but the h2o-python package is version 3.36.0.3. Install the matching h2o-Python version from - http://h2o-release.s3.amazonaws.com/h2o/rel-zz_kurka/1/index.html.\n",
      "Warning: Your H2O cluster version is too old (3 months and 27 days)!Please download and install the latest version from http://h2o.ai/download/\n"
     ]
    },
    {
     "data": {
      "text/html": [
       "<div style=\"overflow:auto\"><table style=\"width:50%\"><tr><td>H2O_cluster_uptime:</td>\n",
       "<td>16 hours 30 mins</td></tr>\n",
       "<tr><td>H2O_cluster_timezone:</td>\n",
       "<td>Etc/GMT</td></tr>\n",
       "<tr><td>H2O_data_parsing_timezone:</td>\n",
       "<td>UTC</td></tr>\n",
       "<tr><td>H2O_cluster_version:</td>\n",
       "<td>3.40.0.1</td></tr>\n",
       "<tr><td>H2O_cluster_version_age:</td>\n",
       "<td>3 months and 27 days !!!</td></tr>\n",
       "<tr><td>H2O_cluster_name:</td>\n",
       "<td>H2O_started_from_R_stever7_qfi986</td></tr>\n",
       "<tr><td>H2O_cluster_total_nodes:</td>\n",
       "<td>1</td></tr>\n",
       "<tr><td>H2O_cluster_free_memory:</td>\n",
       "<td>22.22 Gb</td></tr>\n",
       "<tr><td>H2O_cluster_total_cores:</td>\n",
       "<td>64</td></tr>\n",
       "<tr><td>H2O_cluster_allowed_cores:</td>\n",
       "<td>64</td></tr>\n",
       "<tr><td>H2O_cluster_status:</td>\n",
       "<td>locked, healthy</td></tr>\n",
       "<tr><td>H2O_connection_url:</td>\n",
       "<td>http://localhost:54321</td></tr>\n",
       "<tr><td>H2O_connection_proxy:</td>\n",
       "<td>{\"http\": null, \"https\": null}</td></tr>\n",
       "<tr><td>H2O_internal_security:</td>\n",
       "<td>False</td></tr>\n",
       "<tr><td>Python_version:</td>\n",
       "<td>3.9.11 final</td></tr></table></div>"
      ],
      "text/plain": [
       "--------------------------  ---------------------------------\n",
       "H2O_cluster_uptime:         16 hours 30 mins\n",
       "H2O_cluster_timezone:       Etc/GMT\n",
       "H2O_data_parsing_timezone:  UTC\n",
       "H2O_cluster_version:        3.40.0.1\n",
       "H2O_cluster_version_age:    3 months and 27 days !!!\n",
       "H2O_cluster_name:           H2O_started_from_R_stever7_qfi986\n",
       "H2O_cluster_total_nodes:    1\n",
       "H2O_cluster_free_memory:    22.22 Gb\n",
       "H2O_cluster_total_cores:    64\n",
       "H2O_cluster_allowed_cores:  64\n",
       "H2O_cluster_status:         locked, healthy\n",
       "H2O_connection_url:         http://localhost:54321\n",
       "H2O_connection_proxy:       {\"http\": null, \"https\": null}\n",
       "H2O_internal_security:      False\n",
       "Python_version:             3.9.11 final\n",
       "--------------------------  ---------------------------------"
      ]
     },
     "metadata": {},
     "output_type": "display_data"
    },
    {
     "name": "stdout",
     "output_type": "stream",
     "text": [
      "Parse progress: |████████████████████████████████████████████████████████████████| (done) 100%\n",
      "infogram Model Build progress: |█████████████████████████████████████████████████| (done) 100%\n"
     ]
    },
    {
     "data": {
      "image/png": "[encoded data removed]",
      "text/plain": [
       "<Figure size 720x720 with 1 Axes>"
      ]
     },
     "metadata": {
      "needs_background": "light"
     },
     "output_type": "display_data"
    },
    {
     "data": {
      "text/html": [
       "<table>\n",
       "<thead>\n",
       "<tr><th>column              </th><th style=\"text-align: right;\">  admissible</th><th style=\"text-align: right;\">  admissible_index</th><th style=\"text-align: right;\">  relevance_index</th><th style=\"text-align: right;\">  safety_index</th><th style=\"text-align: right;\">   cmi_raw</th></tr>\n",
       "</thead>\n",
       "<tbody>\n",
       "<tr><td>loan_to_value_ratio </td><td style=\"text-align: right;\">           1</td><td style=\"text-align: right;\">         1        </td><td style=\"text-align: right;\">        1        </td><td style=\"text-align: right;\">     1        </td><td style=\"text-align: right;\">0.0941406 </td></tr>\n",
       "<tr><td>property_value      </td><td style=\"text-align: right;\">           1</td><td style=\"text-align: right;\">         0.232405 </td><td style=\"text-align: right;\">        0.145431 </td><td style=\"text-align: right;\">     0.294744 </td><td style=\"text-align: right;\">0.0277474 </td></tr>\n",
       "<tr><td>loan_amount         </td><td style=\"text-align: right;\">           1</td><td style=\"text-align: right;\">         0.176956 </td><td style=\"text-align: right;\">        0.122526 </td><td style=\"text-align: right;\">     0.218206 </td><td style=\"text-align: right;\">0.0205421 </td></tr>\n",
       "<tr><td>income              </td><td style=\"text-align: right;\">           0</td><td style=\"text-align: right;\">         0.106802 </td><td style=\"text-align: right;\">        0.0265004</td><td style=\"text-align: right;\">     0.148697 </td><td style=\"text-align: right;\">0.0139985 </td></tr>\n",
       "<tr><td>intro_rate_period   </td><td style=\"text-align: right;\">           0</td><td style=\"text-align: right;\">         0.0627864</td><td style=\"text-align: right;\">        0.0551325</td><td style=\"text-align: right;\">     0.0696038</td><td style=\"text-align: right;\">0.00655254</td></tr>\n",
       "<tr><td>loan_term           </td><td style=\"text-align: right;\">           0</td><td style=\"text-align: right;\">         0.046236 </td><td style=\"text-align: right;\">        0.0550699</td><td style=\"text-align: right;\">     0.0352539</td><td style=\"text-align: right;\">0.00331882</td></tr>\n",
       "<tr><td>debt_to_income_ratio</td><td style=\"text-align: right;\">           0</td><td style=\"text-align: right;\">         0.0402932</td><td style=\"text-align: right;\">        0.0537012</td><td style=\"text-align: right;\">     0.0190596</td><td style=\"text-align: right;\">0.00179428</td></tr>\n",
       "</tbody>\n",
       "</table>"
      ]
     },
     "metadata": {},
     "output_type": "display_data"
    },
    {
     "data": {
      "text/plain": []
     },
     "execution_count": 1,
     "metadata": {},
     "output_type": "execute_result"
    }
   ],
   "source": [
    "import h2o\n",
    "from h2o.automl import *\n",
    "from h2o.estimators.infogram import H2OInfogram\n",
    "\n",
    "h2o.connect()\n",
    "\n",
    "# Import HDMA dataset\n",
    "f = \"https://erin-data.s3.amazonaws.com/admissible/data/hmda_lar_2018_sample.csv\"\n",
    "col_types = {'high_priced': \"enum\"}\n",
    "df = h2o.import_file(path=f, col_types=col_types)\n",
    "\n",
    "# We will split the data so that we can test/compare performance\n",
    "# of admissible vs non-admissible models later\n",
    "train, test = df.split_frame(ratios=[0.8], seed=1)\n",
    "\n",
    "# Response column and predictor columns\n",
    "y = \"high_priced\"\n",
    "x =  [\"loan_amount\",\n",
    "      \"loan_to_value_ratio\",\n",
    "      \"loan_term\",\n",
    "      \"intro_rate_period\",\n",
    "      \"property_value\",\n",
    "      \"income\",\n",
    "      \"debt_to_income_ratio\"]\n",
    "\n",
    "# Fairness related information\n",
    "protected_columns = [\"derived_race\", \"derived_sex\"]\n",
    "reference = [\"White\", \"Male\"]\n",
    "favorable_class = \"0\"\n",
    "\n",
    "# Infogram\n",
    "ig = H2OInfogram(protected_columns=protected_columns)\n",
    "ig.train(y=y, x=x, training_frame=train)\n",
    "ig.plot()\n",
    "\n",
    "# Admissible score frame\n",
    "asf = ig.get_admissible_score_frame()\n",
    "asf"
   ]
  },
  {
   "cell_type": "code",
   "execution_count": 2,
   "metadata": {},
   "outputs": [],
   "source": [
    "# Train models on different subsets of features selected by infogram\n",
    "# da = ig.train_subset_models(H2OAutoML, y, train, test, protected_columns, reference, favorable_class, max_models=10, seed=1)\n",
    "# da\n",
    "# AttributeError: type object 'ModelBase' has no attribute 'train_subset_models'"
   ]
  },
  {
   "cell_type": "code",
   "execution_count": 3,
   "metadata": {},
   "outputs": [],
   "source": [
    "# Select the best models with respect to AUC and AIR\n",
    "# h2o.explanation.pareto_front(da, x_metric=\"auc\", y_metric=\"significant_air_min\", optimum=\"top right\", color_col=\"algo\")"
   ]
  },
  {
   "cell_type": "code",
   "execution_count": 4,
   "metadata": {},
   "outputs": [],
   "source": [
    "# Pick a model that satisfies the four fifths rule\n",
    "# potentially_fair_model = h2o.get_model(da[da[\"significant_air_min\"] > 0.8, \"model_id\"][0, 0])"
   ]
  },
  {
   "cell_type": "code",
   "execution_count": 5,
   "metadata": {},
   "outputs": [],
   "source": [
    "# Inspect the model\n",
    "# potentially_fair_model.inspect_model_fairness(test, protected_columns, reference, favorable_class);"
   ]
  }
 ],
 "metadata": {
  "kernelspec": {
   "display_name": "Python 3",
   "language": "python",
   "name": "python3"
  },
  "language_info": {
   "codemirror_mode": {
    "name": "ipython",
    "version": 3
   },
   "file_extension": ".py",
   "mimetype": "text/x-python",
   "name": "python",
   "nbconvert_exporter": "python",
   "pygments_lexer": "ipython3",
   "version": "3.9.11"
  }
 },
 "nbformat": 4,
 "nbformat_minor": 4
}
