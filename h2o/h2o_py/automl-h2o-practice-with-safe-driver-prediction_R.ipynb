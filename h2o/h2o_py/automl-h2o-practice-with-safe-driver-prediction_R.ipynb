{
 "cells": [
  {
   "cell_type": "markdown",
   "id": "d755879d",
   "metadata": {},
   "source": [
    "https://www.kaggle.com/code/unfinishedgod/automl-h2o-practice-with-safe-driver-prediction"
   ]
  },
  {
   "cell_type": "markdown",
   "id": "01f62346",
   "metadata": {},
   "source": [
    "# Porto Seguros Safe Driver Prediction with Automl.h2o\n",
    "\n",
    "owen\n",
    "\n",
    "2020-04-30 23:56:12\n",
    "\n",
    "1. About Automl h2o\n",
    "\n",
    "2. Reference\n",
    "\n",
    "3. Porto Seguro's Safe Driver Prediction\n",
    "\n",
    "4. Preparation\n",
    "\n",
    "5. Data Cleaning\n",
    "\n",
    "6. Visualization\n",
    "\n",
    "7. Modeling\n",
    "\n",
    "8. Review"
   ]
  },
  {
   "cell_type": "markdown",
   "id": "1e017290",
   "metadata": {},
   "source": [
    "## 1. About Automl h2o\n",
    "\n",
    "Let's use AutoML h2o to analyze the Porto Seguro's Safe Driver Prediction kaggle. In this time I learned how to use the Automl h2o in R, and it was a topic that I chose while looking for how to use it. There is a lot to be lacking in using the automatic h2o, so I refer to a lot of sites, refer to a kaggle notebook, and write it down."
   ]
  },
  {
   "cell_type": "markdown",
   "id": "7cf1dde7",
   "metadata": {},
   "source": [
    "## 2. Reference\n",
    "\n",
    "The following is a reference link in studying h2o automl and the source of the notebook that analyzed Porto Seguros Safe Driver Prediction using h2o automl in the Kaggle.\n",
    "\n",
    "- H2O AutoML\n",
    "    + H2O tutorials: h2o tutorials \n",
    "        - http://docs.h2o.ai/h2o-tutorials/latest-stable/index.html\n",
    "\n",
    "- H2O AutoML & Kaggle\n",
    "    + Troy Walters: h2o AutoML \n",
    "        - https://www.kaggle.com/captcalculator/h2o-automl\n",
    "    + Bhavesh Ghodasara: AutoML (h2o) Trial \n",
    "        - https://www.kaggle.com/bhavesh09/automl-h2o-trial\n",
    "\n",
    "- Kaggle\n",
    "    + Heads or Tails: Steering Wheel of Fortune - Porto Seguro EDA \n",
    "        - https://www.kaggle.com/headsortails/steering-wheel-of-fortune-porto-seguro-eda\n",
    "    + Troy Walters: A Very Extensive Porto Exploratory Analysis \n",
    "        - https://www.kaggle.com/captcalculator/a-very-extensive-porto-exploratory-analysis"
   ]
  },
  {
   "cell_type": "markdown",
   "id": "c70ce97b",
   "metadata": {},
   "source": [
    "## 3. Porto Seguro's Safe Driver Prediction\n",
    "\n",
    "Now lets get down to Porto Seguros Safe Driver Prediction. The goal is to predict whether drivers will claim insurance next year through data.\n",
    "\n",
    "https://www.kaggle.com/competitions/porto-seguro-safe-driver-prediction\n",
    "\n",
    "### 3.1 Evaluation\n",
    "\n",
    "The competition will be evaluated as a Normalized Gini Coefficant. First, to understand Gini Coeffient, it its as follows.\n",
    "\n",
    "In economics, the Gini coefficient, sometimes called the Gini index or Gini ratio, is a measure of statistical dispersion intended to represent the income or wealth distribution of a nations residents, and is the most commonly used measurement of inequality. It was developed by the Italian statistician and sociologist Corrado Gini and published in his 1912 paper Variability and Mutability (Italian: Variabilità e mutabilità).\n",
    "\n",
    "Economics_Gini_coefficient.svg.png\n",
    "\n",
    "https://en.wikipedia.org/wiki/Gini_coefficient\n",
    "\n",
    "### 3.2 Data overview\n",
    "\n",
    "- Each column can be classified as follows:\n",
    "    + ind\n",
    "    + reg\n",
    "    + car\n",
    "    + calc\n",
    "\n",
    "- The format of the data can be determined by the column name as follows:\n",
    "    + `_bin`: Binary Features\n",
    "    + `_cat`: Categorical Features\n",
    "    + Etc: Continuous or Ordinal Features\n",
    "\n",
    "- Values of \"-1\" indicate that the feature was missing from the observation"
   ]
  },
  {
   "cell_type": "markdown",
   "id": "037cd1c8",
   "metadata": {},
   "source": [
    "## 4. Preparation\n",
    "\n",
    "### 4.1 Packages & Data load"
   ]
  },
  {
   "cell_type": "code",
   "execution_count": null,
   "id": "253b0f68",
   "metadata": {},
   "outputs": [],
   "source": [
    "library(readr)\n",
    "library(tidyverse)\n",
    "library(ggplot2)\n",
    "library(dplyr)\n",
    "library(pROC)\n",
    "library(h2o)\n",
    "library(caret)\n",
    "library(corrplot)\n",
    "library(ggthemes)"
   ]
  },
  {
   "cell_type": "code",
   "execution_count": null,
   "id": "28b70c1d",
   "metadata": {},
   "outputs": [],
   "source": [
    "options(scipen=100)"
   ]
  },
  {
   "cell_type": "code",
   "execution_count": null,
   "id": "26de1db2",
   "metadata": {},
   "outputs": [],
   "source": [
    "train_set <- read_csv(\"../input/porto-seguro-safe-driver-prediction/train.csv\")\n",
    "test_set <- read_csv(\"../input/porto-seguro-safe-driver-prediction/test.csv\")"
   ]
  },
  {
   "cell_type": "markdown",
   "id": "9f54941d",
   "metadata": {},
   "source": [
    "### 4.2 H2O init\n",
    "\n",
    "First, connect h2o and R through the `h2oinit()` function."
   ]
  },
  {
   "cell_type": "code",
   "execution_count": null,
   "id": "5a7ccd23",
   "metadata": {},
   "outputs": [],
   "source": [
    "h2o.init()"
   ]
  },
  {
   "cell_type": "markdown",
   "id": "d27f94f7",
   "metadata": {},
   "source": [
    "### 4.3 Data structure\n",
    "\n",
    "#### 4.3.1 Data structure"
   ]
  },
  {
   "cell_type": "code",
   "execution_count": null,
   "id": "37d31250",
   "metadata": {},
   "outputs": [],
   "source": [
    "str(train_set)"
   ]
  },
  {
   "cell_type": "markdown",
   "id": "3f3758e5",
   "metadata": {},
   "source": [
    "#### 4.3.2 Data summary"
   ]
  },
  {
   "cell_type": "code",
   "execution_count": null,
   "id": "e3850921",
   "metadata": {},
   "outputs": [],
   "source": [
    "summary(train_set)"
   ]
  },
  {
   "cell_type": "markdown",
   "id": "cb8af43d",
   "metadata": {},
   "source": [
    "## 5 Data Cleanging\n",
    "\n",
    "Lets do a data cleanging. As mentioned, the data in \"-1\" is missing value, so lets change it to NA. And the `_cat` column allows you to change it to a factor format."
   ]
  },
  {
   "cell_type": "code",
   "execution_count": null,
   "id": "484fba95",
   "metadata": {},
   "outputs": [],
   "source": [
    "train_set[train_set == -1] <- NA\n",
    "test_set[test_set == -1] <- NA\n",
    "\n",
    "cat_vars <- names(train_set)[grepl('_cat$', names(train_set))]\n",
    "\n",
    "train_set <- train_set %>%\n",
    "  mutate_at(.vars = cat_vars, .funs = as.factor)\n",
    "\n",
    "test_set <- test_set %>%\n",
    "  mutate_at(.vars = cat_vars, .funs = as.factor)"
   ]
  },
  {
   "cell_type": "markdown",
   "id": "c1a11899",
   "metadata": {},
   "source": [
    "## 6 Visualization\n",
    "\n",
    "### 6.1 Target visualiztion\n",
    "\n",
    "Let's look at the target variable."
   ]
  },
  {
   "cell_type": "code",
   "execution_count": null,
   "id": "eb476144",
   "metadata": {},
   "outputs": [],
   "source": [
    "ggplot(data = train_set, aes(x = as.factor(target))) +\n",
    "    geom_bar(fill = \"#D9230F\") +\n",
    "    labs(\n",
    "      title = 'Distribution of Target Class',\n",
    "      x = \"Target\", \n",
    "      y = \"Target Count\"\n",
    "    )"
   ]
  },
  {
   "cell_type": "markdown",
   "id": "a41e1c36",
   "metadata": {},
   "source": [
    "### 6.2 Missing value\n",
    "\n",
    "#### 6.2.1 Missing value visualiztion\n",
    "\n",
    "Let's look at the missing value ratio. Only a few of the 59 columns have significant missing values."
   ]
  },
  {
   "cell_type": "code",
   "execution_count": null,
   "id": "5813d18a",
   "metadata": {},
   "outputs": [],
   "source": [
    "data.frame(\n",
    "  feature = names(train_set), \n",
    "  per_miss = map_dbl(train_set, function(x) { sum(is.na(x)) / length(x) })\n",
    ") %>%\n",
    "  ggplot(aes(x = reorder(feature, per_miss), y = per_miss)) + \n",
    "    geom_bar(stat = 'identity', color = 'white', fill = '#D9230F') +\n",
    "    theme(axis.text.x = element_text(angle = 90, hjust = 1)) + \n",
    "    coord_flip() +\n",
    "    labs(x = '', y = 'Missing value ratio(%)', title = 'Missing Value by Feature') + \n",
    "    scale_y_continuous(labels = scales::percent)"
   ]
  },
  {
   "cell_type": "markdown",
   "id": "60a8c9c3",
   "metadata": {},
   "source": [
    "#### 6.2.2 Missing value table\n",
    "\n",
    "Let's take a closer look at the missing values of each column at the table. If you select only the top 10 and check it, it is as follows."
   ]
  },
  {
   "cell_type": "code",
   "execution_count": null,
   "id": "19f63a01",
   "metadata": {},
   "outputs": [],
   "source": [
    "missing_df <- data.frame(\n",
    "  feature = names(train_set), \n",
    "  per_miss = round(map_dbl(train_set, function(x) { sum(is.na(x)) / length(x) }) * 100,2)\n",
    ") %>% \n",
    "  arrange(desc(per_miss)) %>% \n",
    "  head(10)\n",
    "\n",
    "rownames(missing_df) <- NULL\n",
    "\n",
    "missing_df"
   ]
  },
  {
   "cell_type": "markdown",
   "id": "b9b2fca0",
   "metadata": {},
   "source": [
    "### 6.3 Correlation overview\n",
    "\n",
    "#### 6.3.1 Correlation visualization\n",
    "\n",
    "Let's draw a plot of the correlation between each data. There is a large number of data, so it doesn't mean much to display as a table, so let's just take a quick look at the graph."
   ]
  },
  {
   "cell_type": "code",
   "execution_count": null,
   "id": "143e4206",
   "metadata": {},
   "outputs": [],
   "source": [
    "train_set %>%\n",
    "  select(-starts_with(\"ps_calc\"), -ps_ind_10_bin, -ps_ind_11_bin, -ps_car_10_cat, -id) %>%\n",
    "  mutate_at(vars(ends_with(\"cat\")), funs(as.integer)) %>%\n",
    "  mutate_at(vars(ends_with(\"bin\")), funs(as.integer)) %>%\n",
    "  mutate(target = as.integer(target)) %>%\n",
    "  cor(use=\"complete.obs\", method = \"spearman\") %>%\n",
    "  corrplot(type=\"lower\", tl.col = \"black\",  diag=FALSE)"
   ]
  },
  {
   "cell_type": "markdown",
   "id": "f921b33b",
   "metadata": {},
   "source": [
    "## 7 Modeling\n",
    "\n",
    "### 7.1 Train / Valid\n",
    "\n",
    "Now that i have done the visualiztion, let's turn the model around. First, let's categorize the training data into Traing / Valid data and conduct the test. Later, we will proceed with the evaluation with the test data.\n",
    "\n",
    "In order to change the h2o model in progress, data should be adjusted to h2o through `as.h2o()` function."
   ]
  },
  {
   "cell_type": "code",
   "execution_count": null,
   "id": "41e0b547",
   "metadata": {},
   "outputs": [],
   "source": [
    "set.seed(32)\n",
    "\n",
    "index <- sample(1:nrow(train_set), nrow(train_set) * 0.7)\n",
    "\n",
    "tiny_train <- train_set[index, ]\n",
    "train_val <- train_set[-index, ]"
   ]
  },
  {
   "cell_type": "code",
   "execution_count": null,
   "id": "7c6850f5",
   "metadata": {},
   "outputs": [],
   "source": [
    "tiny_train.hex  <- as.h2o(tiny_train)"
   ]
  },
  {
   "cell_type": "code",
   "execution_count": null,
   "id": "4cc96c16",
   "metadata": {},
   "outputs": [],
   "source": [
    "train_val.hex  <- as.h2o(train_val)"
   ]
  },
  {
   "cell_type": "code",
   "execution_count": null,
   "id": "c1ca6167",
   "metadata": {},
   "outputs": [],
   "source": [
    "test.hex <- as.h2o(test_set)"
   ]
  },
  {
   "cell_type": "code",
   "execution_count": null,
   "id": "bd390a28",
   "metadata": {},
   "outputs": [],
   "source": [
    "# rm(train, tiny_train, train_val)\n",
    "# gc()\n",
    "\n",
    "target <- \"target\"\n",
    "predictors <- setdiff(names(tiny_train.hex), target)"
   ]
  },
  {
   "cell_type": "markdown",
   "id": "d7d59583",
   "metadata": {},
   "source": [
    "### 7.2 Modeling\n",
    "\n",
    "Now, let's run the model using the `h2o.automl()` function, which is the core of this blog. For more information on `h2o.automl`, see:\n",
    "\n",
    "http://docs.h2o.ai/h2o-tutorials/latest-stable/index.html"
   ]
  },
  {
   "cell_type": "code",
   "execution_count": null,
   "id": "893226a3",
   "metadata": {},
   "outputs": [],
   "source": [
    "automl_h2o_models <- h2o.automl(\n",
    "  x = predictors,\n",
    "  y = target,\n",
    "  training_frame = tiny_train.hex,\n",
    "  leaderboard_frame = train_val.hex,\n",
    "  max_runtime_secs = 100\n",
    ")\n",
    "\n",
    "automl_leader <- automl_h2o_models@leader\n",
    "\n",
    "# Predict on test set\n",
    "pred_conversion <- h2o.predict(object = automl_leader, newdata = test.hex)\n",
    "\n",
    "pred_conversion <- as.data.frame(pred_conversion)\n",
    "Submission <- cbind(test_set$id, pred_conversion)\n",
    "colnames(Submission) <- c(\"id\", \"target\")\n",
    "write.csv(Submission, \"Submission_AutoML.csv\", row.names = FALSE)"
   ]
  },
  {
   "cell_type": "markdown",
   "id": "092dad1a",
   "metadata": {},
   "source": [
    "## 8 Review\n",
    "\n",
    "Knowing `h2o.automl` gave a change to apply it in R.\n",
    "\n",
    "The process of researching what `h2o.automl` was difficult. It took quite a long time to figure out how h2o goes in R and automl goes.\n",
    "\n",
    "This is the challenge to me, how can we use these technologies? It was a matter of doing. At some point, I didn't like to study in a textbook style, but it feels like I'm studying 100 and writing about 10 in practice. So I thought about how I could use it in the actual. Kaggle. There was not much data in the Kaggle, and it took a long time to find the appropriate topic and classification data that looked like I could do with `ho2.automl()` right away.\n",
    "\n",
    "I've really tried something new. I didn't just listen to it somewhere, but I studied unfamiliar things from the beginning and prepared that, and now I'm going to pile up one by one."
   ]
  }
 ],
 "metadata": {
  "kernelspec": {
   "display_name": "R",
   "language": "R",
   "name": "ir"
  }
 },
 "nbformat": 4,
 "nbformat_minor": 5
}
