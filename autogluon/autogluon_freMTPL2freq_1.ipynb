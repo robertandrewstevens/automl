{
 "cells": [
  {
   "cell_type": "markdown",
   "id": "74e871fb",
   "metadata": {},
   "source": [
    "# AutoGluon: freMTPL2freq (Regression) 1\n",
    "\n",
    "Based on: https://auto.gluon.ai/0.1.0/tutorials/tabular_prediction/tabular-quickstart.html"
   ]
  },
  {
   "cell_type": "code",
   "execution_count": 1,
   "id": "6594f759",
   "metadata": {},
   "outputs": [],
   "source": [
    "time_limit = 60*60  # 1 hour max (confirm with timer)\n",
    "metric = \"mean_absolute_error\"  # specify your evaluation metric\n",
    "target_column = \"ClaimNb\" # name of target or label variable"
   ]
  },
  {
   "cell_type": "markdown",
   "id": "b90d4e08",
   "metadata": {},
   "source": [
    "## Import"
   ]
  },
  {
   "cell_type": "code",
   "execution_count": 2,
   "id": "1111592e",
   "metadata": {},
   "outputs": [],
   "source": [
    "# Import packages\n",
    "\n",
    "from autogluon.tabular import TabularDataset\n",
    "from autogluon.tabular import TabularPredictor\n",
    "\n",
    "import pandas as pd\n",
    "import numpy as np"
   ]
  },
  {
   "cell_type": "code",
   "execution_count": 3,
   "id": "96e1f5d4",
   "metadata": {},
   "outputs": [],
   "source": [
    "# Import data\n",
    "\n",
    "train_data = TabularDataset(\"freMTPL2freq_dataset_train.csv\")\n",
    "test_data = TabularDataset(\"freMTPL2freq_dataset_test.csv\")"
   ]
  },
  {
   "cell_type": "code",
   "execution_count": 4,
   "id": "be1fd3a1",
   "metadata": {},
   "outputs": [
    {
     "data": {
      "text/plain": [
       "(474765, 12)"
      ]
     },
     "execution_count": 4,
     "metadata": {},
     "output_type": "execute_result"
    }
   ],
   "source": [
    "train_data.shape"
   ]
  },
  {
   "cell_type": "code",
   "execution_count": 5,
   "id": "70d08672",
   "metadata": {},
   "outputs": [
    {
     "data": {
      "text/plain": [
       "(203226, 12)"
      ]
     },
     "execution_count": 5,
     "metadata": {},
     "output_type": "execute_result"
    }
   ],
   "source": [
    "test_data.shape"
   ]
  },
  {
   "cell_type": "markdown",
   "id": "8e81fe23",
   "metadata": {},
   "source": [
    "## Tidy"
   ]
  },
  {
   "cell_type": "markdown",
   "id": "86d802b5",
   "metadata": {},
   "source": [
    "(skipped)"
   ]
  },
  {
   "cell_type": "markdown",
   "id": "2e2b7c25",
   "metadata": {},
   "source": [
    "## Transform"
   ]
  },
  {
   "cell_type": "code",
   "execution_count": 6,
   "id": "aa4e1d66",
   "metadata": {},
   "outputs": [],
   "source": [
    "# remove \"IDpol\" (should not be a predictor)\n",
    "\n",
    "train_data = train_data.drop([\"IDpol\"], axis=1)\n",
    "test_data = test_data.drop([\"IDpol\"], axis=1)"
   ]
  },
  {
   "cell_type": "markdown",
   "id": "a1e32aa3",
   "metadata": {},
   "source": [
    "## Visualize"
   ]
  },
  {
   "cell_type": "markdown",
   "id": "dd09ff4c",
   "metadata": {},
   "source": [
    "(skipped)"
   ]
  },
  {
   "cell_type": "markdown",
   "id": "cf03366a",
   "metadata": {},
   "source": [
    "## Model"
   ]
  },
  {
   "cell_type": "code",
   "execution_count": 8,
   "id": "96af6e6b",
   "metadata": {},
   "outputs": [
    {
     "name": "stderr",
     "output_type": "stream",
     "text": [
      "No path specified. Models will be saved in: \"AutogluonModels/ag-20230712_033455/\"\n",
      "Beginning AutoGluon training ... Time limit = 3600s\n",
      "AutoGluon will save models to \"AutogluonModels/ag-20230712_033455/\"\n",
      "AutoGluon Version:  0.7.0\n",
      "Python Version:     3.9.11\n",
      "Operating System:   Linux\n",
      "Platform Machine:   x86_64\n",
      "Platform Version:   #1 SMP Thu May 4 15:21:22 UTC 2023\n",
      "Train Data Rows:    474765\n",
      "Train Data Columns: 10\n",
      "Label Column: ClaimNb\n",
      "Preprocessing data ...\n",
      "Using Feature Generators to preprocess the data ...\n",
      "Fitting AutoMLPipelineFeatureGenerator...\n",
      "\tAvailable Memory:                    87727.2 MB\n",
      "\tTrain Data (Original)  Memory Usage: 141.07 MB (0.2% of available memory)\n",
      "\tInferring data type of each feature based on column values. Set feature_metadata_in to manually specify special dtypes of the features.\n",
      "\tStage 1 Generators:\n",
      "\t\tFitting AsTypeFeatureGenerator...\n",
      "\t\t\tNote: Converting 1 features to boolean dtype as they only contain 2 unique values.\n",
      "\tStage 2 Generators:\n",
      "\t\tFitting FillNaFeatureGenerator...\n",
      "\tStage 3 Generators:\n",
      "\t\tFitting IdentityFeatureGenerator...\n",
      "\t\tFitting CategoryFeatureGenerator...\n",
      "\t\t\tFitting CategoryMemoryMinimizeFeatureGenerator...\n",
      "\tStage 4 Generators:\n",
      "\t\tFitting DropUniqueFeatureGenerator...\n",
      "\tTypes of features in original data (raw dtype, special dtypes):\n",
      "\t\t('float', [])  : 1 | ['Exposure']\n",
      "\t\t('int', [])    : 5 | ['VehPower', 'VehAge', 'DrivAge', 'BonusMalus', 'Density']\n",
      "\t\t('object', []) : 4 | ['VehBrand', 'VehGas', 'Area', 'Region']\n",
      "\tTypes of features in processed data (raw dtype, special dtypes):\n",
      "\t\t('category', [])  : 3 | ['VehBrand', 'Area', 'Region']\n",
      "\t\t('float', [])     : 1 | ['Exposure']\n",
      "\t\t('int', [])       : 5 | ['VehPower', 'VehAge', 'DrivAge', 'BonusMalus', 'Density']\n",
      "\t\t('int', ['bool']) : 1 | ['VehGas']\n",
      "\t3.3s = Fit runtime\n",
      "\t10 features in original data used to generate 10 features in processed data.\n",
      "\tTrain Data (Processed) Memory Usage: 24.69 MB (0.0% of available memory)\n",
      "Data preprocessing and feature engineering runtime = 3.48s ...\n",
      "AutoGluon will gauge predictive performance using evaluation metric: 'mean_absolute_error'\n",
      "\tThis metric's sign has been flipped to adhere to being higher_is_better. The metric score can be multiplied by -1 to get the metric value.\n",
      "\tTo change this, specify the eval_metric parameter of Predictor()\n",
      "Automatically generating train/validation split with holdout_frac=0.01, Train Rows: 470017, Val Rows: 4748\n",
      "Fitting 11 L1 models ...\n",
      "Fitting model: KNeighborsUnif ... Training model for up to 3596.52s of the 3596.5s of remaining time.\n",
      "\t-0.0769\t = Validation score   (-mean_absolute_error)\n",
      "\t28.3s\t = Training   runtime\n",
      "\t0.74s\t = Validation runtime\n",
      "Fitting model: KNeighborsDist ... Training model for up to 3566.83s of the 3566.82s of remaining time.\n",
      "\t-0.0764\t = Validation score   (-mean_absolute_error)\n",
      "\t3.25s\t = Training   runtime\n",
      "\t1.13s\t = Validation runtime\n",
      "Fitting model: LightGBMXT ... Training model for up to 3561.99s of the 3561.97s of remaining time.\n",
      "\tRan out of time, early stopping on iteration 368. Best iteration is:\n",
      "\t[368]\tvalid_set's l1: 0.0752522\n",
      "\t-0.0753\t = Validation score   (-mean_absolute_error)\n",
      "\t3576.65s\t = Training   runtime\n",
      "\t0.22s\t = Validation runtime\n",
      "Fitting model: WeightedEnsemble_L2 ... Training model for up to 360.0s of the -15.63s of remaining time.\n",
      "\t-0.0753\t = Validation score   (-mean_absolute_error)\n",
      "\t0.32s\t = Training   runtime\n",
      "\t0.0s\t = Validation runtime\n",
      "AutoGluon training complete, total runtime = 3617.46s ... Best model: \"WeightedEnsemble_L2\"\n",
      "TabularPredictor saved. To load, use: predictor = TabularPredictor.load(\"AutogluonModels/ag-20230712_033455/\")\n"
     ]
    }
   ],
   "source": [
    "predictor = TabularPredictor(\n",
    "    label=target_column,  \n",
    "    problem_type=\"regression\",\n",
    "    eval_metric=\"mean_absolute_error\",\n",
    ").fit(\n",
    "    train_data, \n",
    "    time_limit=time_limit\n",
    ") "
   ]
  },
  {
   "cell_type": "code",
   "execution_count": 9,
   "id": "ee79e43e",
   "metadata": {},
   "outputs": [
    {
     "name": "stderr",
     "output_type": "stream",
     "text": [
      "/home/stever7/.local/lib/python3.9/site-packages/autogluon/tabular/predictor/predictor.py:1420: FutureWarning: Calling `predictor.predict_proba` when problem_type=regression will raise an AssertionError starting in AutoGluon v0.8. Please call `predictor.predict` instead.\n",
      "  warnings.warn(\n",
      "Evaluation: mean_absolute_error on test data: -0.07296965351740037\n",
      "\tNote: Scores are always higher_is_better. This metric score can be multiplied by -1 to get the metric value.\n",
      "Evaluations on test data:\n",
      "{\n",
      "    \"mean_absolute_error\": -0.07296965351740037,\n",
      "    \"root_mean_squared_error\": -0.2073567839687053,\n",
      "    \"mean_squared_error\": -0.042996835857844314,\n",
      "    \"r2\": 0.03522178624082728,\n",
      "    \"pearsonr\": 0.18859379204831322,\n",
      "    \"median_absolute_error\": -0.03226427733898163\n",
      "}\n"
     ]
    },
    {
     "data": {
      "text/plain": [
       "{'mean_absolute_error': -0.07296965351740037,\n",
       " 'root_mean_squared_error': -0.2073567839687053,\n",
       " 'mean_squared_error': -0.042996835857844314,\n",
       " 'r2': 0.03522178624082728,\n",
       " 'pearsonr': 0.18859379204831322,\n",
       " 'median_absolute_error': -0.03226427733898163}"
      ]
     },
     "execution_count": 9,
     "metadata": {},
     "output_type": "execute_result"
    }
   ],
   "source": [
    "predictor.evaluate(test_data)"
   ]
  },
  {
   "cell_type": "code",
   "execution_count": 10,
   "id": "3aadc26c",
   "metadata": {},
   "outputs": [
    {
     "data": {
      "text/html": [
       "<div>\n",
       "<style scoped>\n",
       "    .dataframe tbody tr th:only-of-type {\n",
       "        vertical-align: middle;\n",
       "    }\n",
       "\n",
       "    .dataframe tbody tr th {\n",
       "        vertical-align: top;\n",
       "    }\n",
       "\n",
       "    .dataframe thead th {\n",
       "        text-align: right;\n",
       "    }\n",
       "</style>\n",
       "<table border=\"1\" class=\"dataframe\">\n",
       "  <thead>\n",
       "    <tr style=\"text-align: right;\">\n",
       "      <th></th>\n",
       "      <th>model</th>\n",
       "      <th>score_test</th>\n",
       "      <th>score_val</th>\n",
       "      <th>pred_time_test</th>\n",
       "      <th>pred_time_val</th>\n",
       "      <th>fit_time</th>\n",
       "      <th>pred_time_test_marginal</th>\n",
       "      <th>pred_time_val_marginal</th>\n",
       "      <th>fit_time_marginal</th>\n",
       "      <th>stack_level</th>\n",
       "      <th>can_infer</th>\n",
       "      <th>fit_order</th>\n",
       "    </tr>\n",
       "  </thead>\n",
       "  <tbody>\n",
       "    <tr>\n",
       "      <th>0</th>\n",
       "      <td>KNeighborsDist</td>\n",
       "      <td>-0.072297</td>\n",
       "      <td>-0.076406</td>\n",
       "      <td>6.182164</td>\n",
       "      <td>1.132006</td>\n",
       "      <td>3.253205</td>\n",
       "      <td>6.182164</td>\n",
       "      <td>1.132006</td>\n",
       "      <td>3.253205</td>\n",
       "      <td>1</td>\n",
       "      <td>True</td>\n",
       "      <td>2</td>\n",
       "    </tr>\n",
       "    <tr>\n",
       "      <th>1</th>\n",
       "      <td>LightGBMXT</td>\n",
       "      <td>-0.072970</td>\n",
       "      <td>-0.075252</td>\n",
       "      <td>0.960321</td>\n",
       "      <td>0.218432</td>\n",
       "      <td>3576.649749</td>\n",
       "      <td>0.960321</td>\n",
       "      <td>0.218432</td>\n",
       "      <td>3576.649749</td>\n",
       "      <td>1</td>\n",
       "      <td>True</td>\n",
       "      <td>3</td>\n",
       "    </tr>\n",
       "    <tr>\n",
       "      <th>2</th>\n",
       "      <td>WeightedEnsemble_L2</td>\n",
       "      <td>-0.072970</td>\n",
       "      <td>-0.075252</td>\n",
       "      <td>1.012094</td>\n",
       "      <td>0.219317</td>\n",
       "      <td>3576.971723</td>\n",
       "      <td>0.051773</td>\n",
       "      <td>0.000885</td>\n",
       "      <td>0.321974</td>\n",
       "      <td>2</td>\n",
       "      <td>True</td>\n",
       "      <td>4</td>\n",
       "    </tr>\n",
       "    <tr>\n",
       "      <th>3</th>\n",
       "      <td>KNeighborsUnif</td>\n",
       "      <td>-0.073036</td>\n",
       "      <td>-0.076874</td>\n",
       "      <td>5.815453</td>\n",
       "      <td>0.735903</td>\n",
       "      <td>28.304204</td>\n",
       "      <td>5.815453</td>\n",
       "      <td>0.735903</td>\n",
       "      <td>28.304204</td>\n",
       "      <td>1</td>\n",
       "      <td>True</td>\n",
       "      <td>1</td>\n",
       "    </tr>\n",
       "  </tbody>\n",
       "</table>\n",
       "</div>"
      ],
      "text/plain": [
       "                 model  score_test  score_val  pred_time_test  pred_time_val  \\\n",
       "0       KNeighborsDist   -0.072297  -0.076406        6.182164       1.132006   \n",
       "1           LightGBMXT   -0.072970  -0.075252        0.960321       0.218432   \n",
       "2  WeightedEnsemble_L2   -0.072970  -0.075252        1.012094       0.219317   \n",
       "3       KNeighborsUnif   -0.073036  -0.076874        5.815453       0.735903   \n",
       "\n",
       "      fit_time  pred_time_test_marginal  pred_time_val_marginal  \\\n",
       "0     3.253205                 6.182164                1.132006   \n",
       "1  3576.649749                 0.960321                0.218432   \n",
       "2  3576.971723                 0.051773                0.000885   \n",
       "3    28.304204                 5.815453                0.735903   \n",
       "\n",
       "   fit_time_marginal  stack_level  can_infer  fit_order  \n",
       "0           3.253205            1       True          2  \n",
       "1        3576.649749            1       True          3  \n",
       "2           0.321974            2       True          4  \n",
       "3          28.304204            1       True          1  "
      ]
     },
     "execution_count": 10,
     "metadata": {},
     "output_type": "execute_result"
    }
   ],
   "source": [
    "predictor.leaderboard(test_data, silent=True).T"
   ]
  },
  {
   "cell_type": "markdown",
   "id": "d9fab9cc",
   "metadata": {},
   "source": [
    "## Communicate"
   ]
  },
  {
   "cell_type": "markdown",
   "id": "102be9bc",
   "metadata": {},
   "source": [
    "(skipped)"
   ]
  }
 ],
 "metadata": {
  "kernelspec": {
   "display_name": "Python 3",
   "language": "python",
   "name": "python3"
  },
  "language_info": {
   "codemirror_mode": {
    "name": "ipython",
    "version": 3
   },
   "file_extension": ".py",
   "mimetype": "text/x-python",
   "name": "python",
   "nbconvert_exporter": "python",
   "pygments_lexer": "ipython3",
   "version": "3.9.11"
  }
 },
 "nbformat": 4,
 "nbformat_minor": 5
}
