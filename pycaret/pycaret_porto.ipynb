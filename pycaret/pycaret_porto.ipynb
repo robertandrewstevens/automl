{
 "cells": [
  {
   "cell_type": "markdown",
   "id": "8dca91d3",
   "metadata": {},
   "source": [
    "# PyCaret: Porto Seguro (Classification)\n",
    "\n",
    "Based on: https://github.com/pycaret/pycaret/blob/master/tutorials/Tutorial%20-%20Binary%20Classification.ipynb"
   ]
  },
  {
   "cell_type": "code",
   "execution_count": 1,
   "id": "6c19aaa2",
   "metadata": {},
   "outputs": [],
   "source": [
    "time_limit = 60  # 1 hour max (confirm with timer)\n",
    "metric = \"AUC\"  # specify your evaluation metric\n",
    "label = \"target\" # name of target or label variable (just happens to be called \"target\" for this dataset)"
   ]
  },
  {
   "cell_type": "markdown",
   "id": "395406bf",
   "metadata": {},
   "source": [
    "## Import"
   ]
  },
  {
   "cell_type": "code",
   "execution_count": 2,
   "id": "bf46dfe0",
   "metadata": {},
   "outputs": [],
   "source": [
    "# Import packages\n",
    "\n",
    "from pycaret.classification import *\n",
    "\n",
    "import numpy as np\n",
    "import pandas as pd\n",
    "import pycaret"
   ]
  },
  {
   "cell_type": "code",
   "execution_count": 3,
   "id": "873ff184",
   "metadata": {},
   "outputs": [],
   "source": [
    "# Import data\n",
    "\n",
    "train_data = pd.read_csv(\"porto_train.csv\")\n",
    "test_data = pd.read_csv(\"porto_test.csv\")"
   ]
  },
  {
   "cell_type": "code",
   "execution_count": 4,
   "id": "d7142a33",
   "metadata": {},
   "outputs": [
    {
     "data": {
      "text/plain": [
       "(476170, 60)"
      ]
     },
     "execution_count": 4,
     "metadata": {},
     "output_type": "execute_result"
    }
   ],
   "source": [
    "train_data.shape"
   ]
  },
  {
   "cell_type": "code",
   "execution_count": 5,
   "id": "956dfdab",
   "metadata": {},
   "outputs": [
    {
     "data": {
      "text/plain": [
       "(119042, 59)"
      ]
     },
     "execution_count": 5,
     "metadata": {},
     "output_type": "execute_result"
    }
   ],
   "source": [
    "test_data.shape"
   ]
  },
  {
   "cell_type": "markdown",
   "id": "85deb94f",
   "metadata": {},
   "source": [
    "## Tidy"
   ]
  },
  {
   "cell_type": "code",
   "execution_count": 6,
   "id": "7a76eb5d",
   "metadata": {},
   "outputs": [],
   "source": [
    "# Replace \"-1\" with missing value\n",
    "train_data = train_data.replace(-1, np.nan)\n",
    "test_data = test_data.replace(-1, np.nan)"
   ]
  },
  {
   "cell_type": "markdown",
   "id": "fd80461c",
   "metadata": {},
   "source": [
    "## Transform"
   ]
  },
  {
   "cell_type": "code",
   "execution_count": 7,
   "id": "b391f14e",
   "metadata": {},
   "outputs": [],
   "source": [
    "# Drop variable not used as predictors\n",
    "train_data = train_data.drop([\"id\", \"fold\"], axis=1)\n",
    "test_data = test_data.drop([\"id\"], axis=1)"
   ]
  },
  {
   "cell_type": "code",
   "execution_count": 8,
   "id": "13bb7210",
   "metadata": {},
   "outputs": [
    {
     "data": {
      "text/plain": [
       "['ps_ind_02_cat',\n",
       " 'ps_ind_04_cat',\n",
       " 'ps_ind_05_cat',\n",
       " 'ps_car_01_cat',\n",
       " 'ps_car_02_cat',\n",
       " 'ps_car_03_cat',\n",
       " 'ps_car_04_cat',\n",
       " 'ps_car_05_cat',\n",
       " 'ps_car_06_cat',\n",
       " 'ps_car_07_cat',\n",
       " 'ps_car_08_cat',\n",
       " 'ps_car_09_cat',\n",
       " 'ps_car_10_cat',\n",
       " 'ps_car_11_cat']"
      ]
     },
     "execution_count": 8,
     "metadata": {},
     "output_type": "execute_result"
    }
   ],
   "source": [
    "# Convert categorical variables to \"category\" data type\n",
    "cat_vars = [col for col in train_data.columns if 'cat' in col]\n",
    "cat_vars"
   ]
  },
  {
   "cell_type": "code",
   "execution_count": 9,
   "id": "6351ac76",
   "metadata": {},
   "outputs": [],
   "source": [
    "for col in cat_vars:\n",
    "    test_data[col] = test_data[col].astype('category')\n",
    "\n",
    "# TypeError: 'Categorical' with dtype category does not support reduction 'mean'\n",
    "# cat_vars = cat_vars + [\"target\"]\n",
    "\n",
    "for col in cat_vars:\n",
    "    train_data[col] = train_data[col].astype('category')"
   ]
  },
  {
   "cell_type": "code",
   "execution_count": 10,
   "id": "93f50d3a",
   "metadata": {},
   "outputs": [],
   "source": [
    "# Create separate test data to demonstrate how to make predictions on new examples at inference time:\n",
    "# y_test = test_data[label]  # values to predict"
   ]
  },
  {
   "cell_type": "markdown",
   "id": "345daca3",
   "metadata": {},
   "source": [
    "## Visualize"
   ]
  },
  {
   "cell_type": "markdown",
   "id": "4999b24c",
   "metadata": {},
   "source": [
    "(skipped)"
   ]
  },
  {
   "cell_type": "markdown",
   "id": "c00f6a4a",
   "metadata": {},
   "source": [
    "## Model"
   ]
  },
  {
   "cell_type": "code",
   "execution_count": 11,
   "id": "97f2c6c6",
   "metadata": {},
   "outputs": [
    {
     "name": "stdout",
     "output_type": "stream",
     "text": [
      "Warning: No categorical columns found. Calling 'transform' will only return input data.\n"
     ]
    },
    {
     "data": {
      "text/html": [
       "<style type=\"text/css\">\n",
       "#T_5fda5_row11_col1 {\n",
       "  background-color: lightgreen;\n",
       "}\n",
       "</style>\n",
       "<table id=\"T_5fda5\">\n",
       "  <thead>\n",
       "    <tr>\n",
       "      <th class=\"blank level0\" >&nbsp;</th>\n",
       "      <th id=\"T_5fda5_level0_col0\" class=\"col_heading level0 col0\" >Description</th>\n",
       "      <th id=\"T_5fda5_level0_col1\" class=\"col_heading level0 col1\" >Value</th>\n",
       "    </tr>\n",
       "  </thead>\n",
       "  <tbody>\n",
       "    <tr>\n",
       "      <th id=\"T_5fda5_level0_row0\" class=\"row_heading level0 row0\" >0</th>\n",
       "      <td id=\"T_5fda5_row0_col0\" class=\"data row0 col0\" >Session id</td>\n",
       "      <td id=\"T_5fda5_row0_col1\" class=\"data row0 col1\" >123</td>\n",
       "    </tr>\n",
       "    <tr>\n",
       "      <th id=\"T_5fda5_level0_row1\" class=\"row_heading level0 row1\" >1</th>\n",
       "      <td id=\"T_5fda5_row1_col0\" class=\"data row1 col0\" >Target</td>\n",
       "      <td id=\"T_5fda5_row1_col1\" class=\"data row1 col1\" >target</td>\n",
       "    </tr>\n",
       "    <tr>\n",
       "      <th id=\"T_5fda5_level0_row2\" class=\"row_heading level0 row2\" >2</th>\n",
       "      <td id=\"T_5fda5_row2_col0\" class=\"data row2 col0\" >Target type</td>\n",
       "      <td id=\"T_5fda5_row2_col1\" class=\"data row2 col1\" >Binary</td>\n",
       "    </tr>\n",
       "    <tr>\n",
       "      <th id=\"T_5fda5_level0_row3\" class=\"row_heading level0 row3\" >3</th>\n",
       "      <td id=\"T_5fda5_row3_col0\" class=\"data row3 col0\" >Original data shape</td>\n",
       "      <td id=\"T_5fda5_row3_col1\" class=\"data row3 col1\" >(476170, 58)</td>\n",
       "    </tr>\n",
       "    <tr>\n",
       "      <th id=\"T_5fda5_level0_row4\" class=\"row_heading level0 row4\" >4</th>\n",
       "      <td id=\"T_5fda5_row4_col0\" class=\"data row4 col0\" >Transformed data shape</td>\n",
       "      <td id=\"T_5fda5_row4_col1\" class=\"data row4 col1\" >(476170, 110)</td>\n",
       "    </tr>\n",
       "    <tr>\n",
       "      <th id=\"T_5fda5_level0_row5\" class=\"row_heading level0 row5\" >5</th>\n",
       "      <td id=\"T_5fda5_row5_col0\" class=\"data row5 col0\" >Transformed train set shape</td>\n",
       "      <td id=\"T_5fda5_row5_col1\" class=\"data row5 col1\" >(333319, 110)</td>\n",
       "    </tr>\n",
       "    <tr>\n",
       "      <th id=\"T_5fda5_level0_row6\" class=\"row_heading level0 row6\" >6</th>\n",
       "      <td id=\"T_5fda5_row6_col0\" class=\"data row6 col0\" >Transformed test set shape</td>\n",
       "      <td id=\"T_5fda5_row6_col1\" class=\"data row6 col1\" >(142851, 110)</td>\n",
       "    </tr>\n",
       "    <tr>\n",
       "      <th id=\"T_5fda5_level0_row7\" class=\"row_heading level0 row7\" >7</th>\n",
       "      <td id=\"T_5fda5_row7_col0\" class=\"data row7 col0\" >Ordinal features</td>\n",
       "      <td id=\"T_5fda5_row7_col1\" class=\"data row7 col1\" >6</td>\n",
       "    </tr>\n",
       "    <tr>\n",
       "      <th id=\"T_5fda5_level0_row8\" class=\"row_heading level0 row8\" >8</th>\n",
       "      <td id=\"T_5fda5_row8_col0\" class=\"data row8 col0\" >Numeric features</td>\n",
       "      <td id=\"T_5fda5_row8_col1\" class=\"data row8 col1\" >43</td>\n",
       "    </tr>\n",
       "    <tr>\n",
       "      <th id=\"T_5fda5_level0_row9\" class=\"row_heading level0 row9\" >9</th>\n",
       "      <td id=\"T_5fda5_row9_col0\" class=\"data row9 col0\" >Categorical features</td>\n",
       "      <td id=\"T_5fda5_row9_col1\" class=\"data row9 col1\" >14</td>\n",
       "    </tr>\n",
       "    <tr>\n",
       "      <th id=\"T_5fda5_level0_row10\" class=\"row_heading level0 row10\" >10</th>\n",
       "      <td id=\"T_5fda5_row10_col0\" class=\"data row10 col0\" >Rows with missing values</td>\n",
       "      <td id=\"T_5fda5_row10_col1\" class=\"data row10 col1\" >79.0%</td>\n",
       "    </tr>\n",
       "    <tr>\n",
       "      <th id=\"T_5fda5_level0_row11\" class=\"row_heading level0 row11\" >11</th>\n",
       "      <td id=\"T_5fda5_row11_col0\" class=\"data row11 col0\" >Preprocess</td>\n",
       "      <td id=\"T_5fda5_row11_col1\" class=\"data row11 col1\" >True</td>\n",
       "    </tr>\n",
       "    <tr>\n",
       "      <th id=\"T_5fda5_level0_row12\" class=\"row_heading level0 row12\" >12</th>\n",
       "      <td id=\"T_5fda5_row12_col0\" class=\"data row12 col0\" >Imputation type</td>\n",
       "      <td id=\"T_5fda5_row12_col1\" class=\"data row12 col1\" >simple</td>\n",
       "    </tr>\n",
       "    <tr>\n",
       "      <th id=\"T_5fda5_level0_row13\" class=\"row_heading level0 row13\" >13</th>\n",
       "      <td id=\"T_5fda5_row13_col0\" class=\"data row13 col0\" >Numeric imputation</td>\n",
       "      <td id=\"T_5fda5_row13_col1\" class=\"data row13 col1\" >mean</td>\n",
       "    </tr>\n",
       "    <tr>\n",
       "      <th id=\"T_5fda5_level0_row14\" class=\"row_heading level0 row14\" >14</th>\n",
       "      <td id=\"T_5fda5_row14_col0\" class=\"data row14 col0\" >Categorical imputation</td>\n",
       "      <td id=\"T_5fda5_row14_col1\" class=\"data row14 col1\" >mode</td>\n",
       "    </tr>\n",
       "    <tr>\n",
       "      <th id=\"T_5fda5_level0_row15\" class=\"row_heading level0 row15\" >15</th>\n",
       "      <td id=\"T_5fda5_row15_col0\" class=\"data row15 col0\" >Maximum one-hot encoding</td>\n",
       "      <td id=\"T_5fda5_row15_col1\" class=\"data row15 col1\" >25</td>\n",
       "    </tr>\n",
       "    <tr>\n",
       "      <th id=\"T_5fda5_level0_row16\" class=\"row_heading level0 row16\" >16</th>\n",
       "      <td id=\"T_5fda5_row16_col0\" class=\"data row16 col0\" >Encoding method</td>\n",
       "      <td id=\"T_5fda5_row16_col1\" class=\"data row16 col1\" >None</td>\n",
       "    </tr>\n",
       "    <tr>\n",
       "      <th id=\"T_5fda5_level0_row17\" class=\"row_heading level0 row17\" >17</th>\n",
       "      <td id=\"T_5fda5_row17_col0\" class=\"data row17 col0\" >Fold Generator</td>\n",
       "      <td id=\"T_5fda5_row17_col1\" class=\"data row17 col1\" >StratifiedKFold</td>\n",
       "    </tr>\n",
       "    <tr>\n",
       "      <th id=\"T_5fda5_level0_row18\" class=\"row_heading level0 row18\" >18</th>\n",
       "      <td id=\"T_5fda5_row18_col0\" class=\"data row18 col0\" >Fold Number</td>\n",
       "      <td id=\"T_5fda5_row18_col1\" class=\"data row18 col1\" >10</td>\n",
       "    </tr>\n",
       "    <tr>\n",
       "      <th id=\"T_5fda5_level0_row19\" class=\"row_heading level0 row19\" >19</th>\n",
       "      <td id=\"T_5fda5_row19_col0\" class=\"data row19 col0\" >CPU Jobs</td>\n",
       "      <td id=\"T_5fda5_row19_col1\" class=\"data row19 col1\" >-1</td>\n",
       "    </tr>\n",
       "    <tr>\n",
       "      <th id=\"T_5fda5_level0_row20\" class=\"row_heading level0 row20\" >20</th>\n",
       "      <td id=\"T_5fda5_row20_col0\" class=\"data row20 col0\" >Use GPU</td>\n",
       "      <td id=\"T_5fda5_row20_col1\" class=\"data row20 col1\" >False</td>\n",
       "    </tr>\n",
       "    <tr>\n",
       "      <th id=\"T_5fda5_level0_row21\" class=\"row_heading level0 row21\" >21</th>\n",
       "      <td id=\"T_5fda5_row21_col0\" class=\"data row21 col0\" >Log Experiment</td>\n",
       "      <td id=\"T_5fda5_row21_col1\" class=\"data row21 col1\" >False</td>\n",
       "    </tr>\n",
       "    <tr>\n",
       "      <th id=\"T_5fda5_level0_row22\" class=\"row_heading level0 row22\" >22</th>\n",
       "      <td id=\"T_5fda5_row22_col0\" class=\"data row22 col0\" >Experiment Name</td>\n",
       "      <td id=\"T_5fda5_row22_col1\" class=\"data row22 col1\" >clf-default-name</td>\n",
       "    </tr>\n",
       "    <tr>\n",
       "      <th id=\"T_5fda5_level0_row23\" class=\"row_heading level0 row23\" >23</th>\n",
       "      <td id=\"T_5fda5_row23_col0\" class=\"data row23 col0\" >USI</td>\n",
       "      <td id=\"T_5fda5_row23_col1\" class=\"data row23 col1\" >2596</td>\n",
       "    </tr>\n",
       "  </tbody>\n",
       "</table>\n"
      ],
      "text/plain": [
       "<pandas.io.formats.style.Styler at 0x7f78e80ab700>"
      ]
     },
     "metadata": {},
     "output_type": "display_data"
    },
    {
     "name": "stdout",
     "output_type": "stream",
     "text": [
      "CPU times: user 4.68 s, sys: 1.72 s, total: 6.4 s\n",
      "Wall time: 14.5 s\n"
     ]
    }
   ],
   "source": [
    "%%time\n",
    "\n",
    "s = setup(train_data, target=label, session_id=123)"
   ]
  },
  {
   "cell_type": "code",
   "execution_count": 12,
   "id": "b4ebf12e",
   "metadata": {},
   "outputs": [
    {
     "data": {
      "text/html": [
       "<div>\n",
       "<style scoped>\n",
       "    .dataframe tbody tr th:only-of-type {\n",
       "        vertical-align: middle;\n",
       "    }\n",
       "\n",
       "    .dataframe tbody tr th {\n",
       "        vertical-align: top;\n",
       "    }\n",
       "\n",
       "    .dataframe thead th {\n",
       "        text-align: right;\n",
       "    }\n",
       "</style>\n",
       "<table border=\"1\" class=\"dataframe\">\n",
       "  <thead>\n",
       "    <tr style=\"text-align: right;\">\n",
       "      <th></th>\n",
       "      <th>Name</th>\n",
       "      <th>Reference</th>\n",
       "      <th>Turbo</th>\n",
       "    </tr>\n",
       "    <tr>\n",
       "      <th>ID</th>\n",
       "      <th></th>\n",
       "      <th></th>\n",
       "      <th></th>\n",
       "    </tr>\n",
       "  </thead>\n",
       "  <tbody>\n",
       "    <tr>\n",
       "      <th>lr</th>\n",
       "      <td>Logistic Regression</td>\n",
       "      <td>sklearn.linear_model._logistic.LogisticRegression</td>\n",
       "      <td>True</td>\n",
       "    </tr>\n",
       "    <tr>\n",
       "      <th>knn</th>\n",
       "      <td>K Neighbors Classifier</td>\n",
       "      <td>sklearn.neighbors._classification.KNeighborsCl...</td>\n",
       "      <td>True</td>\n",
       "    </tr>\n",
       "    <tr>\n",
       "      <th>nb</th>\n",
       "      <td>Naive Bayes</td>\n",
       "      <td>sklearn.naive_bayes.GaussianNB</td>\n",
       "      <td>True</td>\n",
       "    </tr>\n",
       "    <tr>\n",
       "      <th>dt</th>\n",
       "      <td>Decision Tree Classifier</td>\n",
       "      <td>sklearn.tree._classes.DecisionTreeClassifier</td>\n",
       "      <td>True</td>\n",
       "    </tr>\n",
       "    <tr>\n",
       "      <th>svm</th>\n",
       "      <td>SVM - Linear Kernel</td>\n",
       "      <td>sklearn.linear_model._stochastic_gradient.SGDC...</td>\n",
       "      <td>True</td>\n",
       "    </tr>\n",
       "    <tr>\n",
       "      <th>rbfsvm</th>\n",
       "      <td>SVM - Radial Kernel</td>\n",
       "      <td>sklearn.svm._classes.SVC</td>\n",
       "      <td>False</td>\n",
       "    </tr>\n",
       "    <tr>\n",
       "      <th>gpc</th>\n",
       "      <td>Gaussian Process Classifier</td>\n",
       "      <td>sklearn.gaussian_process._gpc.GaussianProcessC...</td>\n",
       "      <td>False</td>\n",
       "    </tr>\n",
       "    <tr>\n",
       "      <th>mlp</th>\n",
       "      <td>MLP Classifier</td>\n",
       "      <td>sklearn.neural_network._multilayer_perceptron....</td>\n",
       "      <td>False</td>\n",
       "    </tr>\n",
       "    <tr>\n",
       "      <th>ridge</th>\n",
       "      <td>Ridge Classifier</td>\n",
       "      <td>sklearn.linear_model._ridge.RidgeClassifier</td>\n",
       "      <td>True</td>\n",
       "    </tr>\n",
       "    <tr>\n",
       "      <th>rf</th>\n",
       "      <td>Random Forest Classifier</td>\n",
       "      <td>sklearn.ensemble._forest.RandomForestClassifier</td>\n",
       "      <td>True</td>\n",
       "    </tr>\n",
       "    <tr>\n",
       "      <th>qda</th>\n",
       "      <td>Quadratic Discriminant Analysis</td>\n",
       "      <td>sklearn.discriminant_analysis.QuadraticDiscrim...</td>\n",
       "      <td>True</td>\n",
       "    </tr>\n",
       "    <tr>\n",
       "      <th>ada</th>\n",
       "      <td>Ada Boost Classifier</td>\n",
       "      <td>sklearn.ensemble._weight_boosting.AdaBoostClas...</td>\n",
       "      <td>True</td>\n",
       "    </tr>\n",
       "    <tr>\n",
       "      <th>gbc</th>\n",
       "      <td>Gradient Boosting Classifier</td>\n",
       "      <td>sklearn.ensemble._gb.GradientBoostingClassifier</td>\n",
       "      <td>True</td>\n",
       "    </tr>\n",
       "    <tr>\n",
       "      <th>lda</th>\n",
       "      <td>Linear Discriminant Analysis</td>\n",
       "      <td>sklearn.discriminant_analysis.LinearDiscrimina...</td>\n",
       "      <td>True</td>\n",
       "    </tr>\n",
       "    <tr>\n",
       "      <th>et</th>\n",
       "      <td>Extra Trees Classifier</td>\n",
       "      <td>sklearn.ensemble._forest.ExtraTreesClassifier</td>\n",
       "      <td>True</td>\n",
       "    </tr>\n",
       "    <tr>\n",
       "      <th>xgboost</th>\n",
       "      <td>Extreme Gradient Boosting</td>\n",
       "      <td>xgboost.sklearn.XGBClassifier</td>\n",
       "      <td>True</td>\n",
       "    </tr>\n",
       "    <tr>\n",
       "      <th>lightgbm</th>\n",
       "      <td>Light Gradient Boosting Machine</td>\n",
       "      <td>lightgbm.sklearn.LGBMClassifier</td>\n",
       "      <td>True</td>\n",
       "    </tr>\n",
       "    <tr>\n",
       "      <th>catboost</th>\n",
       "      <td>CatBoost Classifier</td>\n",
       "      <td>catboost.core.CatBoostClassifier</td>\n",
       "      <td>True</td>\n",
       "    </tr>\n",
       "    <tr>\n",
       "      <th>dummy</th>\n",
       "      <td>Dummy Classifier</td>\n",
       "      <td>sklearn.dummy.DummyClassifier</td>\n",
       "      <td>True</td>\n",
       "    </tr>\n",
       "  </tbody>\n",
       "</table>\n",
       "</div>"
      ],
      "text/plain": [
       "                                     Name  \\\n",
       "ID                                          \n",
       "lr                    Logistic Regression   \n",
       "knn                K Neighbors Classifier   \n",
       "nb                            Naive Bayes   \n",
       "dt               Decision Tree Classifier   \n",
       "svm                   SVM - Linear Kernel   \n",
       "rbfsvm                SVM - Radial Kernel   \n",
       "gpc           Gaussian Process Classifier   \n",
       "mlp                        MLP Classifier   \n",
       "ridge                    Ridge Classifier   \n",
       "rf               Random Forest Classifier   \n",
       "qda       Quadratic Discriminant Analysis   \n",
       "ada                  Ada Boost Classifier   \n",
       "gbc          Gradient Boosting Classifier   \n",
       "lda          Linear Discriminant Analysis   \n",
       "et                 Extra Trees Classifier   \n",
       "xgboost         Extreme Gradient Boosting   \n",
       "lightgbm  Light Gradient Boosting Machine   \n",
       "catboost              CatBoost Classifier   \n",
       "dummy                    Dummy Classifier   \n",
       "\n",
       "                                                  Reference  Turbo  \n",
       "ID                                                                  \n",
       "lr        sklearn.linear_model._logistic.LogisticRegression   True  \n",
       "knn       sklearn.neighbors._classification.KNeighborsCl...   True  \n",
       "nb                           sklearn.naive_bayes.GaussianNB   True  \n",
       "dt             sklearn.tree._classes.DecisionTreeClassifier   True  \n",
       "svm       sklearn.linear_model._stochastic_gradient.SGDC...   True  \n",
       "rbfsvm                             sklearn.svm._classes.SVC  False  \n",
       "gpc       sklearn.gaussian_process._gpc.GaussianProcessC...  False  \n",
       "mlp       sklearn.neural_network._multilayer_perceptron....  False  \n",
       "ridge           sklearn.linear_model._ridge.RidgeClassifier   True  \n",
       "rf          sklearn.ensemble._forest.RandomForestClassifier   True  \n",
       "qda       sklearn.discriminant_analysis.QuadraticDiscrim...   True  \n",
       "ada       sklearn.ensemble._weight_boosting.AdaBoostClas...   True  \n",
       "gbc         sklearn.ensemble._gb.GradientBoostingClassifier   True  \n",
       "lda       sklearn.discriminant_analysis.LinearDiscrimina...   True  \n",
       "et            sklearn.ensemble._forest.ExtraTreesClassifier   True  \n",
       "xgboost                       xgboost.sklearn.XGBClassifier   True  \n",
       "lightgbm                    lightgbm.sklearn.LGBMClassifier   True  \n",
       "catboost                   catboost.core.CatBoostClassifier   True  \n",
       "dummy                         sklearn.dummy.DummyClassifier   True  "
      ]
     },
     "execution_count": 12,
     "metadata": {},
     "output_type": "execute_result"
    }
   ],
   "source": [
    "# check all the available models\n",
    "models()"
   ]
  },
  {
   "cell_type": "code",
   "execution_count": 13,
   "id": "65a19df4",
   "metadata": {},
   "outputs": [
    {
     "data": {
      "text/html": [],
      "text/plain": [
       "<IPython.core.display.HTML object>"
      ]
     },
     "metadata": {},
     "output_type": "display_data"
    },
    {
     "data": {
      "text/html": [
       "<style type=\"text/css\">\n",
       "#T_3e3f4 th {\n",
       "  text-align: left;\n",
       "}\n",
       "#T_3e3f4_row0_col0, #T_3e3f4_row0_col3, #T_3e3f4_row0_col5, #T_3e3f4_row0_col6, #T_3e3f4_row0_col7, #T_3e3f4_row1_col0, #T_3e3f4_row1_col2, #T_3e3f4_row1_col3, #T_3e3f4_row1_col4, #T_3e3f4_row1_col5, #T_3e3f4_row1_col6, #T_3e3f4_row1_col7, #T_3e3f4_row2_col0, #T_3e3f4_row2_col2, #T_3e3f4_row2_col3, #T_3e3f4_row2_col4, #T_3e3f4_row2_col5, #T_3e3f4_row2_col6, #T_3e3f4_row2_col7, #T_3e3f4_row3_col0, #T_3e3f4_row3_col2, #T_3e3f4_row3_col3, #T_3e3f4_row3_col4, #T_3e3f4_row3_col5, #T_3e3f4_row3_col6, #T_3e3f4_row3_col7, #T_3e3f4_row4_col0, #T_3e3f4_row4_col2, #T_3e3f4_row4_col3, #T_3e3f4_row4_col4, #T_3e3f4_row4_col5, #T_3e3f4_row4_col6, #T_3e3f4_row4_col7, #T_3e3f4_row5_col0, #T_3e3f4_row5_col2, #T_3e3f4_row5_col3, #T_3e3f4_row5_col4, #T_3e3f4_row5_col5, #T_3e3f4_row5_col6, #T_3e3f4_row5_col7, #T_3e3f4_row6_col0, #T_3e3f4_row6_col2, #T_3e3f4_row6_col3, #T_3e3f4_row6_col4, #T_3e3f4_row6_col5, #T_3e3f4_row6_col6, #T_3e3f4_row6_col7, #T_3e3f4_row7_col0, #T_3e3f4_row7_col1, #T_3e3f4_row7_col2, #T_3e3f4_row7_col3, #T_3e3f4_row7_col4, #T_3e3f4_row8_col0, #T_3e3f4_row8_col2, #T_3e3f4_row8_col3, #T_3e3f4_row8_col4, #T_3e3f4_row8_col5, #T_3e3f4_row8_col6, #T_3e3f4_row8_col7, #T_3e3f4_row9_col0, #T_3e3f4_row9_col1, #T_3e3f4_row9_col2, #T_3e3f4_row9_col4, #T_3e3f4_row9_col5, #T_3e3f4_row9_col6, #T_3e3f4_row9_col7, #T_3e3f4_row10_col0, #T_3e3f4_row10_col2, #T_3e3f4_row10_col3, #T_3e3f4_row10_col4, #T_3e3f4_row10_col5, #T_3e3f4_row10_col6, #T_3e3f4_row10_col7, #T_3e3f4_row11_col0, #T_3e3f4_row11_col1, #T_3e3f4_row11_col2, #T_3e3f4_row11_col3, #T_3e3f4_row11_col4, #T_3e3f4_row11_col5, #T_3e3f4_row11_col6, #T_3e3f4_row11_col7, #T_3e3f4_row12_col0, #T_3e3f4_row12_col1, #T_3e3f4_row12_col2, #T_3e3f4_row12_col3, #T_3e3f4_row12_col4, #T_3e3f4_row12_col5, #T_3e3f4_row12_col6, #T_3e3f4_row12_col7, #T_3e3f4_row13_col0, #T_3e3f4_row13_col2, #T_3e3f4_row13_col3, #T_3e3f4_row13_col4, #T_3e3f4_row13_col5, #T_3e3f4_row13_col6, #T_3e3f4_row13_col7, #T_3e3f4_row14_col0, #T_3e3f4_row14_col2, #T_3e3f4_row14_col3, #T_3e3f4_row14_col4, #T_3e3f4_row14_col5, #T_3e3f4_row14_col6, #T_3e3f4_row14_col7, #T_3e3f4_row15_col0, #T_3e3f4_row15_col2, #T_3e3f4_row15_col3, #T_3e3f4_row15_col4, #T_3e3f4_row15_col5, #T_3e3f4_row15_col6, #T_3e3f4_row15_col7 {\n",
       "  text-align: left;\n",
       "}\n",
       "#T_3e3f4_row0_col1, #T_3e3f4_row0_col2, #T_3e3f4_row0_col4, #T_3e3f4_row1_col1, #T_3e3f4_row2_col1, #T_3e3f4_row3_col1, #T_3e3f4_row4_col1, #T_3e3f4_row5_col1, #T_3e3f4_row6_col1, #T_3e3f4_row7_col5, #T_3e3f4_row7_col6, #T_3e3f4_row7_col7, #T_3e3f4_row8_col1, #T_3e3f4_row9_col3, #T_3e3f4_row10_col1, #T_3e3f4_row13_col1, #T_3e3f4_row14_col1, #T_3e3f4_row15_col1 {\n",
       "  text-align: left;\n",
       "  background-color: yellow;\n",
       "}\n",
       "#T_3e3f4_row0_col8, #T_3e3f4_row1_col8, #T_3e3f4_row2_col8, #T_3e3f4_row3_col8, #T_3e3f4_row4_col8, #T_3e3f4_row5_col8, #T_3e3f4_row6_col8, #T_3e3f4_row7_col8, #T_3e3f4_row8_col8, #T_3e3f4_row9_col8, #T_3e3f4_row10_col8, #T_3e3f4_row11_col8, #T_3e3f4_row12_col8, #T_3e3f4_row14_col8, #T_3e3f4_row15_col8 {\n",
       "  text-align: left;\n",
       "  background-color: lightgrey;\n",
       "}\n",
       "#T_3e3f4_row13_col8 {\n",
       "  text-align: left;\n",
       "  background-color: yellow;\n",
       "  background-color: lightgrey;\n",
       "}\n",
       "</style>\n",
       "<table id=\"T_3e3f4\">\n",
       "  <thead>\n",
       "    <tr>\n",
       "      <th class=\"blank level0\" >&nbsp;</th>\n",
       "      <th id=\"T_3e3f4_level0_col0\" class=\"col_heading level0 col0\" >Model</th>\n",
       "      <th id=\"T_3e3f4_level0_col1\" class=\"col_heading level0 col1\" >Accuracy</th>\n",
       "      <th id=\"T_3e3f4_level0_col2\" class=\"col_heading level0 col2\" >AUC</th>\n",
       "      <th id=\"T_3e3f4_level0_col3\" class=\"col_heading level0 col3\" >Recall</th>\n",
       "      <th id=\"T_3e3f4_level0_col4\" class=\"col_heading level0 col4\" >Prec.</th>\n",
       "      <th id=\"T_3e3f4_level0_col5\" class=\"col_heading level0 col5\" >F1</th>\n",
       "      <th id=\"T_3e3f4_level0_col6\" class=\"col_heading level0 col6\" >Kappa</th>\n",
       "      <th id=\"T_3e3f4_level0_col7\" class=\"col_heading level0 col7\" >MCC</th>\n",
       "      <th id=\"T_3e3f4_level0_col8\" class=\"col_heading level0 col8\" >TT (Sec)</th>\n",
       "    </tr>\n",
       "  </thead>\n",
       "  <tbody>\n",
       "    <tr>\n",
       "      <th id=\"T_3e3f4_level0_row0\" class=\"row_heading level0 row0\" >gbc</th>\n",
       "      <td id=\"T_3e3f4_row0_col0\" class=\"data row0 col0\" >Gradient Boosting Classifier</td>\n",
       "      <td id=\"T_3e3f4_row0_col1\" class=\"data row0 col1\" >0.9635</td>\n",
       "      <td id=\"T_3e3f4_row0_col2\" class=\"data row0 col2\" >0.6368</td>\n",
       "      <td id=\"T_3e3f4_row0_col3\" class=\"data row0 col3\" >0.0002</td>\n",
       "      <td id=\"T_3e3f4_row0_col4\" class=\"data row0 col4\" >0.2000</td>\n",
       "      <td id=\"T_3e3f4_row0_col5\" class=\"data row0 col5\" >0.0005</td>\n",
       "      <td id=\"T_3e3f4_row0_col6\" class=\"data row0 col6\" >0.0004</td>\n",
       "      <td id=\"T_3e3f4_row0_col7\" class=\"data row0 col7\" >0.0057</td>\n",
       "      <td id=\"T_3e3f4_row0_col8\" class=\"data row0 col8\" >21.6620</td>\n",
       "    </tr>\n",
       "    <tr>\n",
       "      <th id=\"T_3e3f4_level0_row1\" class=\"row_heading level0 row1\" >lightgbm</th>\n",
       "      <td id=\"T_3e3f4_row1_col0\" class=\"data row1 col0\" >Light Gradient Boosting Machine</td>\n",
       "      <td id=\"T_3e3f4_row1_col1\" class=\"data row1 col1\" >0.9635</td>\n",
       "      <td id=\"T_3e3f4_row1_col2\" class=\"data row1 col2\" >0.6327</td>\n",
       "      <td id=\"T_3e3f4_row1_col3\" class=\"data row1 col3\" >0.0000</td>\n",
       "      <td id=\"T_3e3f4_row1_col4\" class=\"data row1 col4\" >0.0000</td>\n",
       "      <td id=\"T_3e3f4_row1_col5\" class=\"data row1 col5\" >0.0000</td>\n",
       "      <td id=\"T_3e3f4_row1_col6\" class=\"data row1 col6\" >-0.0000</td>\n",
       "      <td id=\"T_3e3f4_row1_col7\" class=\"data row1 col7\" >-0.0004</td>\n",
       "      <td id=\"T_3e3f4_row1_col8\" class=\"data row1 col8\" >3.1880</td>\n",
       "    </tr>\n",
       "    <tr>\n",
       "      <th id=\"T_3e3f4_level0_row2\" class=\"row_heading level0 row2\" >ada</th>\n",
       "      <td id=\"T_3e3f4_row2_col0\" class=\"data row2 col0\" >Ada Boost Classifier</td>\n",
       "      <td id=\"T_3e3f4_row2_col1\" class=\"data row2 col1\" >0.9635</td>\n",
       "      <td id=\"T_3e3f4_row2_col2\" class=\"data row2 col2\" >0.6310</td>\n",
       "      <td id=\"T_3e3f4_row2_col3\" class=\"data row2 col3\" >0.0000</td>\n",
       "      <td id=\"T_3e3f4_row2_col4\" class=\"data row2 col4\" >0.0000</td>\n",
       "      <td id=\"T_3e3f4_row2_col5\" class=\"data row2 col5\" >0.0000</td>\n",
       "      <td id=\"T_3e3f4_row2_col6\" class=\"data row2 col6\" >0.0000</td>\n",
       "      <td id=\"T_3e3f4_row2_col7\" class=\"data row2 col7\" >0.0000</td>\n",
       "      <td id=\"T_3e3f4_row2_col8\" class=\"data row2 col8\" >8.6610</td>\n",
       "    </tr>\n",
       "    <tr>\n",
       "      <th id=\"T_3e3f4_level0_row3\" class=\"row_heading level0 row3\" >lr</th>\n",
       "      <td id=\"T_3e3f4_row3_col0\" class=\"data row3 col0\" >Logistic Regression</td>\n",
       "      <td id=\"T_3e3f4_row3_col1\" class=\"data row3 col1\" >0.9635</td>\n",
       "      <td id=\"T_3e3f4_row3_col2\" class=\"data row3 col2\" >0.6260</td>\n",
       "      <td id=\"T_3e3f4_row3_col3\" class=\"data row3 col3\" >0.0000</td>\n",
       "      <td id=\"T_3e3f4_row3_col4\" class=\"data row3 col4\" >0.0000</td>\n",
       "      <td id=\"T_3e3f4_row3_col5\" class=\"data row3 col5\" >0.0000</td>\n",
       "      <td id=\"T_3e3f4_row3_col6\" class=\"data row3 col6\" >0.0000</td>\n",
       "      <td id=\"T_3e3f4_row3_col7\" class=\"data row3 col7\" >0.0000</td>\n",
       "      <td id=\"T_3e3f4_row3_col8\" class=\"data row3 col8\" >14.3620</td>\n",
       "    </tr>\n",
       "    <tr>\n",
       "      <th id=\"T_3e3f4_level0_row4\" class=\"row_heading level0 row4\" >lda</th>\n",
       "      <td id=\"T_3e3f4_row4_col0\" class=\"data row4 col0\" >Linear Discriminant Analysis</td>\n",
       "      <td id=\"T_3e3f4_row4_col1\" class=\"data row4 col1\" >0.9635</td>\n",
       "      <td id=\"T_3e3f4_row4_col2\" class=\"data row4 col2\" >0.6256</td>\n",
       "      <td id=\"T_3e3f4_row4_col3\" class=\"data row4 col3\" >0.0000</td>\n",
       "      <td id=\"T_3e3f4_row4_col4\" class=\"data row4 col4\" >0.0000</td>\n",
       "      <td id=\"T_3e3f4_row4_col5\" class=\"data row4 col5\" >0.0000</td>\n",
       "      <td id=\"T_3e3f4_row4_col6\" class=\"data row4 col6\" >-0.0000</td>\n",
       "      <td id=\"T_3e3f4_row4_col7\" class=\"data row4 col7\" >-0.0002</td>\n",
       "      <td id=\"T_3e3f4_row4_col8\" class=\"data row4 col8\" >3.7220</td>\n",
       "    </tr>\n",
       "    <tr>\n",
       "      <th id=\"T_3e3f4_level0_row5\" class=\"row_heading level0 row5\" >catboost</th>\n",
       "      <td id=\"T_3e3f4_row5_col0\" class=\"data row5 col0\" >CatBoost Classifier</td>\n",
       "      <td id=\"T_3e3f4_row5_col1\" class=\"data row5 col1\" >0.9635</td>\n",
       "      <td id=\"T_3e3f4_row5_col2\" class=\"data row5 col2\" >0.6196</td>\n",
       "      <td id=\"T_3e3f4_row5_col3\" class=\"data row5 col3\" >0.0002</td>\n",
       "      <td id=\"T_3e3f4_row5_col4\" class=\"data row5 col4\" >0.1250</td>\n",
       "      <td id=\"T_3e3f4_row5_col5\" class=\"data row5 col5\" >0.0005</td>\n",
       "      <td id=\"T_3e3f4_row5_col6\" class=\"data row5 col6\" >0.0004</td>\n",
       "      <td id=\"T_3e3f4_row5_col7\" class=\"data row5 col7\" >0.0045</td>\n",
       "      <td id=\"T_3e3f4_row5_col8\" class=\"data row5 col8\" >8.9270</td>\n",
       "    </tr>\n",
       "    <tr>\n",
       "      <th id=\"T_3e3f4_level0_row6\" class=\"row_heading level0 row6\" >xgboost</th>\n",
       "      <td id=\"T_3e3f4_row6_col0\" class=\"data row6 col0\" >Extreme Gradient Boosting</td>\n",
       "      <td id=\"T_3e3f4_row6_col1\" class=\"data row6 col1\" >0.9635</td>\n",
       "      <td id=\"T_3e3f4_row6_col2\" class=\"data row6 col2\" >0.6125</td>\n",
       "      <td id=\"T_3e3f4_row6_col3\" class=\"data row6 col3\" >0.0004</td>\n",
       "      <td id=\"T_3e3f4_row6_col4\" class=\"data row6 col4\" >0.1700</td>\n",
       "      <td id=\"T_3e3f4_row6_col5\" class=\"data row6 col5\" >0.0008</td>\n",
       "      <td id=\"T_3e3f4_row6_col6\" class=\"data row6 col6\" >0.0007</td>\n",
       "      <td id=\"T_3e3f4_row6_col7\" class=\"data row6 col7\" >0.0068</td>\n",
       "      <td id=\"T_3e3f4_row6_col8\" class=\"data row6 col8\" >20.3390</td>\n",
       "    </tr>\n",
       "    <tr>\n",
       "      <th id=\"T_3e3f4_level0_row7\" class=\"row_heading level0 row7\" >nb</th>\n",
       "      <td id=\"T_3e3f4_row7_col0\" class=\"data row7 col0\" >Naive Bayes</td>\n",
       "      <td id=\"T_3e3f4_row7_col1\" class=\"data row7 col1\" >0.8508</td>\n",
       "      <td id=\"T_3e3f4_row7_col2\" class=\"data row7 col2\" >0.6021</td>\n",
       "      <td id=\"T_3e3f4_row7_col3\" class=\"data row7 col3\" >0.2118</td>\n",
       "      <td id=\"T_3e3f4_row7_col4\" class=\"data row7 col4\" >0.0602</td>\n",
       "      <td id=\"T_3e3f4_row7_col5\" class=\"data row7 col5\" >0.0938</td>\n",
       "      <td id=\"T_3e3f4_row7_col6\" class=\"data row7 col6\" >0.0392</td>\n",
       "      <td id=\"T_3e3f4_row7_col7\" class=\"data row7 col7\" >0.0486</td>\n",
       "      <td id=\"T_3e3f4_row7_col8\" class=\"data row7 col8\" >1.4930</td>\n",
       "    </tr>\n",
       "    <tr>\n",
       "      <th id=\"T_3e3f4_level0_row8\" class=\"row_heading level0 row8\" >rf</th>\n",
       "      <td id=\"T_3e3f4_row8_col0\" class=\"data row8 col0\" >Random Forest Classifier</td>\n",
       "      <td id=\"T_3e3f4_row8_col1\" class=\"data row8 col1\" >0.9635</td>\n",
       "      <td id=\"T_3e3f4_row8_col2\" class=\"data row8 col2\" >0.5862</td>\n",
       "      <td id=\"T_3e3f4_row8_col3\" class=\"data row8 col3\" >0.0000</td>\n",
       "      <td id=\"T_3e3f4_row8_col4\" class=\"data row8 col4\" >0.0000</td>\n",
       "      <td id=\"T_3e3f4_row8_col5\" class=\"data row8 col5\" >0.0000</td>\n",
       "      <td id=\"T_3e3f4_row8_col6\" class=\"data row8 col6\" >0.0000</td>\n",
       "      <td id=\"T_3e3f4_row8_col7\" class=\"data row8 col7\" >0.0000</td>\n",
       "      <td id=\"T_3e3f4_row8_col8\" class=\"data row8 col8\" >4.9630</td>\n",
       "    </tr>\n",
       "    <tr>\n",
       "      <th id=\"T_3e3f4_level0_row9\" class=\"row_heading level0 row9\" >qda</th>\n",
       "      <td id=\"T_3e3f4_row9_col0\" class=\"data row9 col0\" >Quadratic Discriminant Analysis</td>\n",
       "      <td id=\"T_3e3f4_row9_col1\" class=\"data row9 col1\" >0.8132</td>\n",
       "      <td id=\"T_3e3f4_row9_col2\" class=\"data row9 col2\" >0.5849</td>\n",
       "      <td id=\"T_3e3f4_row9_col3\" class=\"data row9 col3\" >0.2395</td>\n",
       "      <td id=\"T_3e3f4_row9_col4\" class=\"data row9 col4\" >0.0558</td>\n",
       "      <td id=\"T_3e3f4_row9_col5\" class=\"data row9 col5\" >0.0857</td>\n",
       "      <td id=\"T_3e3f4_row9_col6\" class=\"data row9 col6\" >0.0309</td>\n",
       "      <td id=\"T_3e3f4_row9_col7\" class=\"data row9 col7\" >0.0402</td>\n",
       "      <td id=\"T_3e3f4_row9_col8\" class=\"data row9 col8\" >3.5210</td>\n",
       "    </tr>\n",
       "    <tr>\n",
       "      <th id=\"T_3e3f4_level0_row10\" class=\"row_heading level0 row10\" >et</th>\n",
       "      <td id=\"T_3e3f4_row10_col0\" class=\"data row10 col0\" >Extra Trees Classifier</td>\n",
       "      <td id=\"T_3e3f4_row10_col1\" class=\"data row10 col1\" >0.9635</td>\n",
       "      <td id=\"T_3e3f4_row10_col2\" class=\"data row10 col2\" >0.5840</td>\n",
       "      <td id=\"T_3e3f4_row10_col3\" class=\"data row10 col3\" >0.0000</td>\n",
       "      <td id=\"T_3e3f4_row10_col4\" class=\"data row10 col4\" >0.0000</td>\n",
       "      <td id=\"T_3e3f4_row10_col5\" class=\"data row10 col5\" >0.0000</td>\n",
       "      <td id=\"T_3e3f4_row10_col6\" class=\"data row10 col6\" >0.0000</td>\n",
       "      <td id=\"T_3e3f4_row10_col7\" class=\"data row10 col7\" >0.0000</td>\n",
       "      <td id=\"T_3e3f4_row10_col8\" class=\"data row10 col8\" >5.5510</td>\n",
       "    </tr>\n",
       "    <tr>\n",
       "      <th id=\"T_3e3f4_level0_row11\" class=\"row_heading level0 row11\" >knn</th>\n",
       "      <td id=\"T_3e3f4_row11_col0\" class=\"data row11 col0\" >K Neighbors Classifier</td>\n",
       "      <td id=\"T_3e3f4_row11_col1\" class=\"data row11 col1\" >0.9631</td>\n",
       "      <td id=\"T_3e3f4_row11_col2\" class=\"data row11 col2\" >0.5098</td>\n",
       "      <td id=\"T_3e3f4_row11_col3\" class=\"data row11 col3\" >0.0005</td>\n",
       "      <td id=\"T_3e3f4_row11_col4\" class=\"data row11 col4\" >0.0386</td>\n",
       "      <td id=\"T_3e3f4_row11_col5\" class=\"data row11 col5\" >0.0010</td>\n",
       "      <td id=\"T_3e3f4_row11_col6\" class=\"data row11 col6\" >0.0000</td>\n",
       "      <td id=\"T_3e3f4_row11_col7\" class=\"data row11 col7\" >0.0001</td>\n",
       "      <td id=\"T_3e3f4_row11_col8\" class=\"data row11 col8\" >24.9540</td>\n",
       "    </tr>\n",
       "    <tr>\n",
       "      <th id=\"T_3e3f4_level0_row12\" class=\"row_heading level0 row12\" >dt</th>\n",
       "      <td id=\"T_3e3f4_row12_col0\" class=\"data row12 col0\" >Decision Tree Classifier</td>\n",
       "      <td id=\"T_3e3f4_row12_col1\" class=\"data row12 col1\" >0.9196</td>\n",
       "      <td id=\"T_3e3f4_row12_col2\" class=\"data row12 col2\" >0.5080</td>\n",
       "      <td id=\"T_3e3f4_row12_col3\" class=\"data row12 col3\" >0.0641</td>\n",
       "      <td id=\"T_3e3f4_row12_col4\" class=\"data row12 col4\" >0.0481</td>\n",
       "      <td id=\"T_3e3f4_row12_col5\" class=\"data row12 col5\" >0.0549</td>\n",
       "      <td id=\"T_3e3f4_row12_col6\" class=\"data row12 col6\" >0.0139</td>\n",
       "      <td id=\"T_3e3f4_row12_col7\" class=\"data row12 col7\" >0.0140</td>\n",
       "      <td id=\"T_3e3f4_row12_col8\" class=\"data row12 col8\" >2.8330</td>\n",
       "    </tr>\n",
       "    <tr>\n",
       "      <th id=\"T_3e3f4_level0_row13\" class=\"row_heading level0 row13\" >dummy</th>\n",
       "      <td id=\"T_3e3f4_row13_col0\" class=\"data row13 col0\" >Dummy Classifier</td>\n",
       "      <td id=\"T_3e3f4_row13_col1\" class=\"data row13 col1\" >0.9635</td>\n",
       "      <td id=\"T_3e3f4_row13_col2\" class=\"data row13 col2\" >0.5000</td>\n",
       "      <td id=\"T_3e3f4_row13_col3\" class=\"data row13 col3\" >0.0000</td>\n",
       "      <td id=\"T_3e3f4_row13_col4\" class=\"data row13 col4\" >0.0000</td>\n",
       "      <td id=\"T_3e3f4_row13_col5\" class=\"data row13 col5\" >0.0000</td>\n",
       "      <td id=\"T_3e3f4_row13_col6\" class=\"data row13 col6\" >0.0000</td>\n",
       "      <td id=\"T_3e3f4_row13_col7\" class=\"data row13 col7\" >0.0000</td>\n",
       "      <td id=\"T_3e3f4_row13_col8\" class=\"data row13 col8\" >0.2470</td>\n",
       "    </tr>\n",
       "    <tr>\n",
       "      <th id=\"T_3e3f4_level0_row14\" class=\"row_heading level0 row14\" >svm</th>\n",
       "      <td id=\"T_3e3f4_row14_col0\" class=\"data row14 col0\" >SVM - Linear Kernel</td>\n",
       "      <td id=\"T_3e3f4_row14_col1\" class=\"data row14 col1\" >0.9635</td>\n",
       "      <td id=\"T_3e3f4_row14_col2\" class=\"data row14 col2\" >0.0000</td>\n",
       "      <td id=\"T_3e3f4_row14_col3\" class=\"data row14 col3\" >0.0000</td>\n",
       "      <td id=\"T_3e3f4_row14_col4\" class=\"data row14 col4\" >0.0000</td>\n",
       "      <td id=\"T_3e3f4_row14_col5\" class=\"data row14 col5\" >0.0000</td>\n",
       "      <td id=\"T_3e3f4_row14_col6\" class=\"data row14 col6\" >0.0000</td>\n",
       "      <td id=\"T_3e3f4_row14_col7\" class=\"data row14 col7\" >0.0000</td>\n",
       "      <td id=\"T_3e3f4_row14_col8\" class=\"data row14 col8\" >3.2770</td>\n",
       "    </tr>\n",
       "    <tr>\n",
       "      <th id=\"T_3e3f4_level0_row15\" class=\"row_heading level0 row15\" >ridge</th>\n",
       "      <td id=\"T_3e3f4_row15_col0\" class=\"data row15 col0\" >Ridge Classifier</td>\n",
       "      <td id=\"T_3e3f4_row15_col1\" class=\"data row15 col1\" >0.9635</td>\n",
       "      <td id=\"T_3e3f4_row15_col2\" class=\"data row15 col2\" >0.0000</td>\n",
       "      <td id=\"T_3e3f4_row15_col3\" class=\"data row15 col3\" >0.0000</td>\n",
       "      <td id=\"T_3e3f4_row15_col4\" class=\"data row15 col4\" >0.0000</td>\n",
       "      <td id=\"T_3e3f4_row15_col5\" class=\"data row15 col5\" >0.0000</td>\n",
       "      <td id=\"T_3e3f4_row15_col6\" class=\"data row15 col6\" >0.0000</td>\n",
       "      <td id=\"T_3e3f4_row15_col7\" class=\"data row15 col7\" >0.0000</td>\n",
       "      <td id=\"T_3e3f4_row15_col8\" class=\"data row15 col8\" >1.4810</td>\n",
       "    </tr>\n",
       "  </tbody>\n",
       "</table>\n"
      ],
      "text/plain": [
       "<pandas.io.formats.style.Styler at 0x7f78e8402820>"
      ]
     },
     "metadata": {},
     "output_type": "display_data"
    },
    {
     "data": {
      "application/vnd.jupyter.widget-view+json": {
       "model_id": "",
       "version_major": 2,
       "version_minor": 0
      },
      "text/plain": [
       "Processing:   0%|          | 0/69 [00:00<?, ?it/s]"
      ]
     },
     "metadata": {},
     "output_type": "display_data"
    },
    {
     "name": "stdout",
     "output_type": "stream",
     "text": [
      "CPU times: user 3min 20s, sys: 16.9 s, total: 3min 37s\n",
      "Wall time: 24min 52s\n"
     ]
    }
   ],
   "source": [
    "%%time\n",
    "\n",
    "# compare baseline models\n",
    "best = compare_models(sort=metric, budget_time=time_limit)"
   ]
  },
  {
   "cell_type": "code",
   "execution_count": 14,
   "id": "c5803df9",
   "metadata": {},
   "outputs": [
    {
     "data": {
      "text/html": [
       "<style type=\"text/css\">\n",
       "</style>\n",
       "<table id=\"T_04b03\">\n",
       "  <thead>\n",
       "    <tr>\n",
       "      <th class=\"blank level0\" >&nbsp;</th>\n",
       "      <th id=\"T_04b03_level0_col0\" class=\"col_heading level0 col0\" >Model</th>\n",
       "      <th id=\"T_04b03_level0_col1\" class=\"col_heading level0 col1\" >Accuracy</th>\n",
       "      <th id=\"T_04b03_level0_col2\" class=\"col_heading level0 col2\" >AUC</th>\n",
       "      <th id=\"T_04b03_level0_col3\" class=\"col_heading level0 col3\" >Recall</th>\n",
       "      <th id=\"T_04b03_level0_col4\" class=\"col_heading level0 col4\" >Prec.</th>\n",
       "      <th id=\"T_04b03_level0_col5\" class=\"col_heading level0 col5\" >F1</th>\n",
       "      <th id=\"T_04b03_level0_col6\" class=\"col_heading level0 col6\" >Kappa</th>\n",
       "      <th id=\"T_04b03_level0_col7\" class=\"col_heading level0 col7\" >MCC</th>\n",
       "    </tr>\n",
       "  </thead>\n",
       "  <tbody>\n",
       "    <tr>\n",
       "      <th id=\"T_04b03_level0_row0\" class=\"row_heading level0 row0\" >0</th>\n",
       "      <td id=\"T_04b03_row0_col0\" class=\"data row0 col0\" >Gradient Boosting Classifier</td>\n",
       "      <td id=\"T_04b03_row0_col1\" class=\"data row0 col1\" >0.9636</td>\n",
       "      <td id=\"T_04b03_row0_col2\" class=\"data row0 col2\" >0.6328</td>\n",
       "      <td id=\"T_04b03_row0_col3\" class=\"data row0 col3\" >0.0000</td>\n",
       "      <td id=\"T_04b03_row0_col4\" class=\"data row0 col4\" >0.0000</td>\n",
       "      <td id=\"T_04b03_row0_col5\" class=\"data row0 col5\" >0.0000</td>\n",
       "      <td id=\"T_04b03_row0_col6\" class=\"data row0 col6\" >-0.0000</td>\n",
       "      <td id=\"T_04b03_row0_col7\" class=\"data row0 col7\" >-0.0006</td>\n",
       "    </tr>\n",
       "  </tbody>\n",
       "</table>\n"
      ],
      "text/plain": [
       "<pandas.io.formats.style.Styler at 0x7f78e902dfd0>"
      ]
     },
     "metadata": {},
     "output_type": "display_data"
    }
   ],
   "source": [
    "# predict model on new_data\n",
    "predictions = predict_model(best, data=test_data)"
   ]
  },
  {
   "cell_type": "markdown",
   "id": "94669c72",
   "metadata": {},
   "source": [
    "### AutoML\n",
    "\n",
    "This function returns the best model out of all trained models in the current setup based on the optimize parameter. Metrics evaluated can be accessed using the `get_metrics` function."
   ]
  },
  {
   "cell_type": "code",
   "execution_count": 15,
   "id": "01532054",
   "metadata": {},
   "outputs": [
    {
     "name": "stdout",
     "output_type": "stream",
     "text": [
      "CPU times: user 5.57 s, sys: 2.11 s, total: 7.67 s\n",
      "Wall time: 7.7 s\n"
     ]
    },
    {
     "data": {
      "text/html": [
       "<style>#sk-container-id-1 {color: black;background-color: white;}#sk-container-id-1 pre{padding: 0;}#sk-container-id-1 div.sk-toggleable {background-color: white;}#sk-container-id-1 label.sk-toggleable__label {cursor: pointer;display: block;width: 100%;margin-bottom: 0;padding: 0.3em;box-sizing: border-box;text-align: center;}#sk-container-id-1 label.sk-toggleable__label-arrow:before {content: \"▸\";float: left;margin-right: 0.25em;color: #696969;}#sk-container-id-1 label.sk-toggleable__label-arrow:hover:before {color: black;}#sk-container-id-1 div.sk-estimator:hover label.sk-toggleable__label-arrow:before {color: black;}#sk-container-id-1 div.sk-toggleable__content {max-height: 0;max-width: 0;overflow: hidden;text-align: left;background-color: #f0f8ff;}#sk-container-id-1 div.sk-toggleable__content pre {margin: 0.2em;color: black;border-radius: 0.25em;background-color: #f0f8ff;}#sk-container-id-1 input.sk-toggleable__control:checked~div.sk-toggleable__content {max-height: 200px;max-width: 100%;overflow: auto;}#sk-container-id-1 input.sk-toggleable__control:checked~label.sk-toggleable__label-arrow:before {content: \"▾\";}#sk-container-id-1 div.sk-estimator input.sk-toggleable__control:checked~label.sk-toggleable__label {background-color: #d4ebff;}#sk-container-id-1 div.sk-label input.sk-toggleable__control:checked~label.sk-toggleable__label {background-color: #d4ebff;}#sk-container-id-1 input.sk-hidden--visually {border: 0;clip: rect(1px 1px 1px 1px);clip: rect(1px, 1px, 1px, 1px);height: 1px;margin: -1px;overflow: hidden;padding: 0;position: absolute;width: 1px;}#sk-container-id-1 div.sk-estimator {font-family: monospace;background-color: #f0f8ff;border: 1px dotted black;border-radius: 0.25em;box-sizing: border-box;margin-bottom: 0.5em;}#sk-container-id-1 div.sk-estimator:hover {background-color: #d4ebff;}#sk-container-id-1 div.sk-parallel-item::after {content: \"\";width: 100%;border-bottom: 1px solid gray;flex-grow: 1;}#sk-container-id-1 div.sk-label:hover label.sk-toggleable__label {background-color: #d4ebff;}#sk-container-id-1 div.sk-serial::before {content: \"\";position: absolute;border-left: 1px solid gray;box-sizing: border-box;top: 0;bottom: 0;left: 50%;z-index: 0;}#sk-container-id-1 div.sk-serial {display: flex;flex-direction: column;align-items: center;background-color: white;padding-right: 0.2em;padding-left: 0.2em;position: relative;}#sk-container-id-1 div.sk-item {position: relative;z-index: 1;}#sk-container-id-1 div.sk-parallel {display: flex;align-items: stretch;justify-content: center;background-color: white;position: relative;}#sk-container-id-1 div.sk-item::before, #sk-container-id-1 div.sk-parallel-item::before {content: \"\";position: absolute;border-left: 1px solid gray;box-sizing: border-box;top: 0;bottom: 0;left: 50%;z-index: -1;}#sk-container-id-1 div.sk-parallel-item {display: flex;flex-direction: column;z-index: 1;position: relative;background-color: white;}#sk-container-id-1 div.sk-parallel-item:first-child::after {align-self: flex-end;width: 50%;}#sk-container-id-1 div.sk-parallel-item:last-child::after {align-self: flex-start;width: 50%;}#sk-container-id-1 div.sk-parallel-item:only-child::after {width: 0;}#sk-container-id-1 div.sk-dashed-wrapped {border: 1px dashed gray;margin: 0 0.4em 0.5em 0.4em;box-sizing: border-box;padding-bottom: 0.4em;background-color: white;}#sk-container-id-1 div.sk-label label {font-family: monospace;font-weight: bold;display: inline-block;line-height: 1.2em;}#sk-container-id-1 div.sk-label-container {text-align: center;}#sk-container-id-1 div.sk-container {/* jupyter's `normalize.less` sets `[hidden] { display: none; }` but bootstrap.min.css set `[hidden] { display: none !important; }` so we also need the `!important` here to be able to override the default hidden behavior on the sphinx rendered scikit-learn.org. See: https://github.com/scikit-learn/scikit-learn/issues/21755 */display: inline-block !important;position: relative;}#sk-container-id-1 div.sk-text-repr-fallback {display: none;}</style><div id=\"sk-container-id-1\" class=\"sk-top-container\"><div class=\"sk-text-repr-fallback\"><pre>GradientBoostingClassifier(ccp_alpha=0.0, criterion=&#x27;friedman_mse&#x27;, init=None,\n",
       "                           learning_rate=0.1, loss=&#x27;log_loss&#x27;, max_depth=3,\n",
       "                           max_features=None, max_leaf_nodes=None,\n",
       "                           min_impurity_decrease=0.0, min_samples_leaf=1,\n",
       "                           min_samples_split=2, min_weight_fraction_leaf=0.0,\n",
       "                           n_estimators=100, n_iter_no_change=None,\n",
       "                           random_state=123, subsample=1.0, tol=0.0001,\n",
       "                           validation_fraction=0.1, verbose=0,\n",
       "                           warm_start=False)</pre><b>In a Jupyter environment, please rerun this cell to show the HTML representation or trust the notebook. <br />On GitHub, the HTML representation is unable to render, please try loading this page with nbviewer.org.</b></div><div class=\"sk-container\" hidden><div class=\"sk-item\"><div class=\"sk-estimator sk-toggleable\"><input class=\"sk-toggleable__control sk-hidden--visually\" id=\"sk-estimator-id-1\" type=\"checkbox\" checked><label for=\"sk-estimator-id-1\" class=\"sk-toggleable__label sk-toggleable__label-arrow\">GradientBoostingClassifier</label><div class=\"sk-toggleable__content\"><pre>GradientBoostingClassifier(ccp_alpha=0.0, criterion=&#x27;friedman_mse&#x27;, init=None,\n",
       "                           learning_rate=0.1, loss=&#x27;log_loss&#x27;, max_depth=3,\n",
       "                           max_features=None, max_leaf_nodes=None,\n",
       "                           min_impurity_decrease=0.0, min_samples_leaf=1,\n",
       "                           min_samples_split=2, min_weight_fraction_leaf=0.0,\n",
       "                           n_estimators=100, n_iter_no_change=None,\n",
       "                           random_state=123, subsample=1.0, tol=0.0001,\n",
       "                           validation_fraction=0.1, verbose=0,\n",
       "                           warm_start=False)</pre></div></div></div></div></div>"
      ],
      "text/plain": [
       "GradientBoostingClassifier(ccp_alpha=0.0, criterion='friedman_mse', init=None,\n",
       "                           learning_rate=0.1, loss='log_loss', max_depth=3,\n",
       "                           max_features=None, max_leaf_nodes=None,\n",
       "                           min_impurity_decrease=0.0, min_samples_leaf=1,\n",
       "                           min_samples_split=2, min_weight_fraction_leaf=0.0,\n",
       "                           n_estimators=100, n_iter_no_change=None,\n",
       "                           random_state=123, subsample=1.0, tol=0.0001,\n",
       "                           validation_fraction=0.1, verbose=0,\n",
       "                           warm_start=False)"
      ]
     },
     "execution_count": 15,
     "metadata": {},
     "output_type": "execute_result"
    }
   ],
   "source": [
    "%%time\n",
    "\n",
    "automl(optimize=metric)"
   ]
  },
  {
   "cell_type": "markdown",
   "id": "928677a6",
   "metadata": {},
   "source": [
    "## Communicate"
   ]
  },
  {
   "cell_type": "code",
   "execution_count": 16,
   "id": "569f1169",
   "metadata": {},
   "outputs": [
    {
     "data": {
      "text/html": [],
      "text/plain": [
       "<IPython.core.display.HTML object>"
      ]
     },
     "metadata": {},
     "output_type": "display_data"
    },
    {
     "data": {
      "image/png": "[encoded data removed]",
      "text/plain": [
       "<Figure size 432x288 with 1 Axes>"
      ]
     },
     "metadata": {
      "needs_background": "light"
     },
     "output_type": "display_data"
    }
   ],
   "source": [
    "# plot confusion matrix\n",
    "plot_model(best, plot='confusion_matrix')"
   ]
  },
  {
   "cell_type": "code",
   "execution_count": 17,
   "id": "b5ffae73",
   "metadata": {},
   "outputs": [
    {
     "data": {
      "text/html": [],
      "text/plain": [
       "<IPython.core.display.HTML object>"
      ]
     },
     "metadata": {},
     "output_type": "display_data"
    },
    {
     "data": {
      "image/png": "[encoded data removed]",
      "text/plain": [
       "<Figure size 432x288 with 1 Axes>"
      ]
     },
     "metadata": {
      "needs_background": "light"
     },
     "output_type": "display_data"
    }
   ],
   "source": [
    "# plot AUC\n",
    "plot_model(best, plot='auc')"
   ]
  },
  {
   "cell_type": "code",
   "execution_count": 18,
   "id": "05584bd1",
   "metadata": {},
   "outputs": [
    {
     "data": {
      "text/html": [],
      "text/plain": [
       "<IPython.core.display.HTML object>"
      ]
     },
     "metadata": {},
     "output_type": "display_data"
    },
    {
     "data": {
      "image/png": "[encoded data removed]",
      "text/plain": [
       "<Figure size 800x500 with 1 Axes>"
      ]
     },
     "metadata": {
      "needs_background": "light"
     },
     "output_type": "display_data"
    }
   ],
   "source": [
    "# plot feature importance\n",
    "plot_model(best, plot='feature')"
   ]
  },
  {
   "cell_type": "code",
   "execution_count": 19,
   "id": "beb27bef",
   "metadata": {},
   "outputs": [
    {
     "data": {
      "text/html": [],
      "text/plain": [
       "<IPython.core.display.HTML object>"
      ]
     },
     "metadata": {},
     "output_type": "display_data"
    },
    {
     "data": {
      "image/png": "[encoded data removed]",
      "text/plain": [
       "<Figure size 432x288 with 2 Axes>"
      ]
     },
     "metadata": {
      "needs_background": "light"
     },
     "output_type": "display_data"
    }
   ],
   "source": [
    "# plot class report\n",
    "plot_model(best, plot='class_report')"
   ]
  }
 ],
 "metadata": {
  "kernelspec": {
   "display_name": "Python 3",
   "language": "python",
   "name": "python3"
  },
  "language_info": {
   "codemirror_mode": {
    "name": "ipython",
    "version": 3
   },
   "file_extension": ".py",
   "mimetype": "text/x-python",
   "name": "python",
   "nbconvert_exporter": "python",
   "pygments_lexer": "ipython3",
   "version": "3.9.11"
  }
 },
 "nbformat": 4,
 "nbformat_minor": 5
}
